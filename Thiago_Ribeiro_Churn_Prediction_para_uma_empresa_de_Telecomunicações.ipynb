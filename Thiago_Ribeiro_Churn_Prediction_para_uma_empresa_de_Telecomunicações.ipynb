{
  "nbformat": 4,
  "nbformat_minor": 0,
  "metadata": {
    "colab": {
      "name": "Thiago Ribeiro - Churn Prediction para uma empresa de Telecomunicações.ipynb",
      "provenance": [],
      "collapsed_sections": [
        "sC2BFMOKN1M7",
        "0HVmpIxQWT4Y",
        "3CadXVZBrrDq",
        "fw6t7W_U3qQO",
        "fqoTQjJLp340",
        "Qb2stCk-VbXE",
        "-e9ma2dK0MyV",
        "y2yxVjkgJctt",
        "XqYC6gC77WBd",
        "WGUYvfA1MmGM",
        "vlmh9TsZdfeR",
        "S3f6ROIfgBWK",
        "7JCXLT0rdnLw",
        "4WNieqkOrPtc",
        "NKswPsNrxeFs",
        "um2sH46ER2S6",
        "PL6nkW3vSM9g",
        "_Ae-0zpaUOgJ",
        "PLtoYdOUEbDQ",
        "kITtPsV4zALA",
        "a_ANxxVPdI0I"
      ],
      "toc_visible": true,
      "include_colab_link": true
    },
    "kernelspec": {
      "name": "python3",
      "display_name": "Python 3"
    }
  },
  "cells": [
    {
      "cell_type": "markdown",
      "metadata": {
        "id": "view-in-github",
        "colab_type": "text"
      },
      "source": [
        "<a href=\"https://colab.research.google.com/github/thiagobcoelho25/churn-prediction-sigmoidal/blob/main/Thiago_Ribeiro_Churn_Prediction_para_uma_empresa_de_Telecomunica%C3%A7%C3%B5es.ipynb\" target=\"_parent\"><img src=\"https://colab.research.google.com/assets/colab-badge.svg\" alt=\"Open In Colab\"/></a>"
      ]
    },
    {
      "cell_type": "markdown",
      "metadata": {
        "id": "sC2BFMOKN1M7"
      },
      "source": [
        "---\n",
        "<img alt=\"Colaboratory logo\" width=\"15%\" src=\"https://raw.githubusercontent.com/carlosfab/escola-data-science/master/img/novo_logo_bg_claro.png\">\n",
        "\n",
        "#### **Data Science na Prática 3.0**\n",
        "*by [sigmoidal.ai](https://sigmoidal.ai)*  \n",
        "\n",
        "---"
      ]
    },
    {
      "cell_type": "markdown",
      "metadata": {
        "id": "IR56trFcPcC1"
      },
      "source": [
        "# Churn Prediction\n",
        "\n",
        "*Churn rate*, ou simplesmente *churn*, representa a taxa de evasão da sua base de clientes. Em serviços como Spotify ou Netflix, ela representaria a taxa de cancelamento de assinaturas.\n",
        "\n",
        "<p align=center>\n",
        "<img src=\"https://raw.githubusercontent.com/carlosfab/dsnp2/master/img/churnrate.jpg\" width=\"60%\"></p>\n",
        "\n",
        "Ela é de extrema importância para a administração e sua análise ao longo do tempo pode mostrar que existe algum problema que deve ser atacado.\n",
        "\n",
        "*Churn* também pode ser usado para identificar potenciais cancelamentos, com um tempo de antecedência, e promover ações direcionadas para tentar reter tais clientes. Essa métrica deve receber atenção pelo fato de que o Custo de Aquisição de Cliente (CAC) é normalmente mais alto que o custo para mantê-los. Ou seja, um alto valor para o *churn rate* é o que não desejamos."
      ]
    },
    {
      "cell_type": "markdown",
      "metadata": {
        "id": "0HVmpIxQWT4Y"
      },
      "source": [
        "## Aquisição dos Dados\n",
        "\n",
        "Os dados utilizados neste projeto foram originalmente disponibilizados na [plataforma de ensino da IBM Developer](https://developer.ibm.com/technologies/data-science/patterns/predict-customer-churn-using-watson-studio-and-jupyter-notebooks/#), e tratam de um problema típico de uma companhia de telecomunicações. O *dataset* completo pode ser encontrado [neste link](https://raw.githubusercontent.com/carlosfab/dsnp2/master/datasets/WA_Fn-UseC_-Telco-Customer-Churn.csv).\n",
        "\n",
        "Apesar de não haver informações explícitas disponíves, os nomes das colunas permitem um entendimento a respeito do problema."
      ]
    },
    {
      "cell_type": "code",
      "metadata": {
        "id": "oQ4bNy7udtEE",
        "colab": {
          "base_uri": "https://localhost:8080/",
          "height": 357
        },
        "outputId": "e326f17d-df7d-4638-85bb-44de9280f710"
      },
      "source": [
        "# importar os pacotes necessários\n",
        "import pandas as pd\n",
        "import matplotlib.pyplot as plt\n",
        "import seaborn as sns\n",
        "from sklearn.metrics import classification_report\n",
        "from sklearn.metrics import roc_auc_score, roc_curve, accuracy_score\n",
        "\n",
        "# importar os dados\n",
        "DATA_PATH = \"https://raw.githubusercontent.com/carlosfab/dsnp2/master/datasets/WA_Fn-UseC_-Telco-Customer-Churn.csv\"\n",
        "df = pd.read_csv(DATA_PATH)\n",
        "\n",
        "# remove limite para quantidade de colunas\n",
        "pd.set_option('display.max_columns', None)\n",
        "\n",
        "# ver as 5 primeiras entradas\n",
        "df.head()"
      ],
      "execution_count": 2,
      "outputs": [
        {
          "output_type": "execute_result",
          "data": {
            "text/plain": [
              "   customerID  gender  SeniorCitizen Partner Dependents  tenure PhoneService  \\\n",
              "0  7590-VHVEG  Female              0     Yes         No       1           No   \n",
              "1  5575-GNVDE    Male              0      No         No      34          Yes   \n",
              "2  3668-QPYBK    Male              0      No         No       2          Yes   \n",
              "3  7795-CFOCW    Male              0      No         No      45           No   \n",
              "4  9237-HQITU  Female              0      No         No       2          Yes   \n",
              "\n",
              "      MultipleLines InternetService OnlineSecurity OnlineBackup  \\\n",
              "0  No phone service             DSL             No          Yes   \n",
              "1                No             DSL            Yes           No   \n",
              "2                No             DSL            Yes          Yes   \n",
              "3  No phone service             DSL            Yes           No   \n",
              "4                No     Fiber optic             No           No   \n",
              "\n",
              "  DeviceProtection TechSupport StreamingTV StreamingMovies        Contract  \\\n",
              "0               No          No          No              No  Month-to-month   \n",
              "1              Yes          No          No              No        One year   \n",
              "2               No          No          No              No  Month-to-month   \n",
              "3              Yes         Yes          No              No        One year   \n",
              "4               No          No          No              No  Month-to-month   \n",
              "\n",
              "  PaperlessBilling              PaymentMethod  MonthlyCharges TotalCharges  \\\n",
              "0              Yes           Electronic check           29.85        29.85   \n",
              "1               No               Mailed check           56.95       1889.5   \n",
              "2              Yes               Mailed check           53.85       108.15   \n",
              "3               No  Bank transfer (automatic)           42.30      1840.75   \n",
              "4              Yes           Electronic check           70.70       151.65   \n",
              "\n",
              "  Churn  \n",
              "0    No  \n",
              "1    No  \n",
              "2   Yes  \n",
              "3    No  \n",
              "4   Yes  "
            ],
            "text/html": [
              "\n",
              "  <div id=\"df-6114f35f-f612-4c9f-9059-ccd26e503774\">\n",
              "    <div class=\"colab-df-container\">\n",
              "      <div>\n",
              "<style scoped>\n",
              "    .dataframe tbody tr th:only-of-type {\n",
              "        vertical-align: middle;\n",
              "    }\n",
              "\n",
              "    .dataframe tbody tr th {\n",
              "        vertical-align: top;\n",
              "    }\n",
              "\n",
              "    .dataframe thead th {\n",
              "        text-align: right;\n",
              "    }\n",
              "</style>\n",
              "<table border=\"1\" class=\"dataframe\">\n",
              "  <thead>\n",
              "    <tr style=\"text-align: right;\">\n",
              "      <th></th>\n",
              "      <th>customerID</th>\n",
              "      <th>gender</th>\n",
              "      <th>SeniorCitizen</th>\n",
              "      <th>Partner</th>\n",
              "      <th>Dependents</th>\n",
              "      <th>tenure</th>\n",
              "      <th>PhoneService</th>\n",
              "      <th>MultipleLines</th>\n",
              "      <th>InternetService</th>\n",
              "      <th>OnlineSecurity</th>\n",
              "      <th>OnlineBackup</th>\n",
              "      <th>DeviceProtection</th>\n",
              "      <th>TechSupport</th>\n",
              "      <th>StreamingTV</th>\n",
              "      <th>StreamingMovies</th>\n",
              "      <th>Contract</th>\n",
              "      <th>PaperlessBilling</th>\n",
              "      <th>PaymentMethod</th>\n",
              "      <th>MonthlyCharges</th>\n",
              "      <th>TotalCharges</th>\n",
              "      <th>Churn</th>\n",
              "    </tr>\n",
              "  </thead>\n",
              "  <tbody>\n",
              "    <tr>\n",
              "      <th>0</th>\n",
              "      <td>7590-VHVEG</td>\n",
              "      <td>Female</td>\n",
              "      <td>0</td>\n",
              "      <td>Yes</td>\n",
              "      <td>No</td>\n",
              "      <td>1</td>\n",
              "      <td>No</td>\n",
              "      <td>No phone service</td>\n",
              "      <td>DSL</td>\n",
              "      <td>No</td>\n",
              "      <td>Yes</td>\n",
              "      <td>No</td>\n",
              "      <td>No</td>\n",
              "      <td>No</td>\n",
              "      <td>No</td>\n",
              "      <td>Month-to-month</td>\n",
              "      <td>Yes</td>\n",
              "      <td>Electronic check</td>\n",
              "      <td>29.85</td>\n",
              "      <td>29.85</td>\n",
              "      <td>No</td>\n",
              "    </tr>\n",
              "    <tr>\n",
              "      <th>1</th>\n",
              "      <td>5575-GNVDE</td>\n",
              "      <td>Male</td>\n",
              "      <td>0</td>\n",
              "      <td>No</td>\n",
              "      <td>No</td>\n",
              "      <td>34</td>\n",
              "      <td>Yes</td>\n",
              "      <td>No</td>\n",
              "      <td>DSL</td>\n",
              "      <td>Yes</td>\n",
              "      <td>No</td>\n",
              "      <td>Yes</td>\n",
              "      <td>No</td>\n",
              "      <td>No</td>\n",
              "      <td>No</td>\n",
              "      <td>One year</td>\n",
              "      <td>No</td>\n",
              "      <td>Mailed check</td>\n",
              "      <td>56.95</td>\n",
              "      <td>1889.5</td>\n",
              "      <td>No</td>\n",
              "    </tr>\n",
              "    <tr>\n",
              "      <th>2</th>\n",
              "      <td>3668-QPYBK</td>\n",
              "      <td>Male</td>\n",
              "      <td>0</td>\n",
              "      <td>No</td>\n",
              "      <td>No</td>\n",
              "      <td>2</td>\n",
              "      <td>Yes</td>\n",
              "      <td>No</td>\n",
              "      <td>DSL</td>\n",
              "      <td>Yes</td>\n",
              "      <td>Yes</td>\n",
              "      <td>No</td>\n",
              "      <td>No</td>\n",
              "      <td>No</td>\n",
              "      <td>No</td>\n",
              "      <td>Month-to-month</td>\n",
              "      <td>Yes</td>\n",
              "      <td>Mailed check</td>\n",
              "      <td>53.85</td>\n",
              "      <td>108.15</td>\n",
              "      <td>Yes</td>\n",
              "    </tr>\n",
              "    <tr>\n",
              "      <th>3</th>\n",
              "      <td>7795-CFOCW</td>\n",
              "      <td>Male</td>\n",
              "      <td>0</td>\n",
              "      <td>No</td>\n",
              "      <td>No</td>\n",
              "      <td>45</td>\n",
              "      <td>No</td>\n",
              "      <td>No phone service</td>\n",
              "      <td>DSL</td>\n",
              "      <td>Yes</td>\n",
              "      <td>No</td>\n",
              "      <td>Yes</td>\n",
              "      <td>Yes</td>\n",
              "      <td>No</td>\n",
              "      <td>No</td>\n",
              "      <td>One year</td>\n",
              "      <td>No</td>\n",
              "      <td>Bank transfer (automatic)</td>\n",
              "      <td>42.30</td>\n",
              "      <td>1840.75</td>\n",
              "      <td>No</td>\n",
              "    </tr>\n",
              "    <tr>\n",
              "      <th>4</th>\n",
              "      <td>9237-HQITU</td>\n",
              "      <td>Female</td>\n",
              "      <td>0</td>\n",
              "      <td>No</td>\n",
              "      <td>No</td>\n",
              "      <td>2</td>\n",
              "      <td>Yes</td>\n",
              "      <td>No</td>\n",
              "      <td>Fiber optic</td>\n",
              "      <td>No</td>\n",
              "      <td>No</td>\n",
              "      <td>No</td>\n",
              "      <td>No</td>\n",
              "      <td>No</td>\n",
              "      <td>No</td>\n",
              "      <td>Month-to-month</td>\n",
              "      <td>Yes</td>\n",
              "      <td>Electronic check</td>\n",
              "      <td>70.70</td>\n",
              "      <td>151.65</td>\n",
              "      <td>Yes</td>\n",
              "    </tr>\n",
              "  </tbody>\n",
              "</table>\n",
              "</div>\n",
              "      <button class=\"colab-df-convert\" onclick=\"convertToInteractive('df-6114f35f-f612-4c9f-9059-ccd26e503774')\"\n",
              "              title=\"Convert this dataframe to an interactive table.\"\n",
              "              style=\"display:none;\">\n",
              "        \n",
              "  <svg xmlns=\"http://www.w3.org/2000/svg\" height=\"24px\"viewBox=\"0 0 24 24\"\n",
              "       width=\"24px\">\n",
              "    <path d=\"M0 0h24v24H0V0z\" fill=\"none\"/>\n",
              "    <path d=\"M18.56 5.44l.94 2.06.94-2.06 2.06-.94-2.06-.94-.94-2.06-.94 2.06-2.06.94zm-11 1L8.5 8.5l.94-2.06 2.06-.94-2.06-.94L8.5 2.5l-.94 2.06-2.06.94zm10 10l.94 2.06.94-2.06 2.06-.94-2.06-.94-.94-2.06-.94 2.06-2.06.94z\"/><path d=\"M17.41 7.96l-1.37-1.37c-.4-.4-.92-.59-1.43-.59-.52 0-1.04.2-1.43.59L10.3 9.45l-7.72 7.72c-.78.78-.78 2.05 0 2.83L4 21.41c.39.39.9.59 1.41.59.51 0 1.02-.2 1.41-.59l7.78-7.78 2.81-2.81c.8-.78.8-2.07 0-2.86zM5.41 20L4 18.59l7.72-7.72 1.47 1.35L5.41 20z\"/>\n",
              "  </svg>\n",
              "      </button>\n",
              "      \n",
              "  <style>\n",
              "    .colab-df-container {\n",
              "      display:flex;\n",
              "      flex-wrap:wrap;\n",
              "      gap: 12px;\n",
              "    }\n",
              "\n",
              "    .colab-df-convert {\n",
              "      background-color: #E8F0FE;\n",
              "      border: none;\n",
              "      border-radius: 50%;\n",
              "      cursor: pointer;\n",
              "      display: none;\n",
              "      fill: #1967D2;\n",
              "      height: 32px;\n",
              "      padding: 0 0 0 0;\n",
              "      width: 32px;\n",
              "    }\n",
              "\n",
              "    .colab-df-convert:hover {\n",
              "      background-color: #E2EBFA;\n",
              "      box-shadow: 0px 1px 2px rgba(60, 64, 67, 0.3), 0px 1px 3px 1px rgba(60, 64, 67, 0.15);\n",
              "      fill: #174EA6;\n",
              "    }\n",
              "\n",
              "    [theme=dark] .colab-df-convert {\n",
              "      background-color: #3B4455;\n",
              "      fill: #D2E3FC;\n",
              "    }\n",
              "\n",
              "    [theme=dark] .colab-df-convert:hover {\n",
              "      background-color: #434B5C;\n",
              "      box-shadow: 0px 1px 3px 1px rgba(0, 0, 0, 0.15);\n",
              "      filter: drop-shadow(0px 1px 2px rgba(0, 0, 0, 0.3));\n",
              "      fill: #FFFFFF;\n",
              "    }\n",
              "  </style>\n",
              "\n",
              "      <script>\n",
              "        const buttonEl =\n",
              "          document.querySelector('#df-6114f35f-f612-4c9f-9059-ccd26e503774 button.colab-df-convert');\n",
              "        buttonEl.style.display =\n",
              "          google.colab.kernel.accessAllowed ? 'block' : 'none';\n",
              "\n",
              "        async function convertToInteractive(key) {\n",
              "          const element = document.querySelector('#df-6114f35f-f612-4c9f-9059-ccd26e503774');\n",
              "          const dataTable =\n",
              "            await google.colab.kernel.invokeFunction('convertToInteractive',\n",
              "                                                     [key], {});\n",
              "          if (!dataTable) return;\n",
              "\n",
              "          const docLinkHtml = 'Like what you see? Visit the ' +\n",
              "            '<a target=\"_blank\" href=https://colab.research.google.com/notebooks/data_table.ipynb>data table notebook</a>'\n",
              "            + ' to learn more about interactive tables.';\n",
              "          element.innerHTML = '';\n",
              "          dataTable['output_type'] = 'display_data';\n",
              "          await google.colab.output.renderOutput(dataTable, element);\n",
              "          const docLink = document.createElement('div');\n",
              "          docLink.innerHTML = docLinkHtml;\n",
              "          element.appendChild(docLink);\n",
              "        }\n",
              "      </script>\n",
              "    </div>\n",
              "  </div>\n",
              "  "
            ]
          },
          "metadata": {},
          "execution_count": 2
        }
      ]
    },
    {
      "cell_type": "markdown",
      "source": [
        "## Exploração dos Dados"
      ],
      "metadata": {
        "id": "3CadXVZBrrDq"
      }
    },
    {
      "cell_type": "code",
      "source": [
        "# tamanho do dataset\n",
        "print(f'O dataset possui {df.shape[0]} linhas, com {df.shape[1]} colunas')"
      ],
      "metadata": {
        "colab": {
          "base_uri": "https://localhost:8080/"
        },
        "id": "-gCr0sZlq5NK",
        "outputId": "1a6fcd40-2557-4625-fce3-c4acc20994f5"
      },
      "execution_count": 3,
      "outputs": [
        {
          "output_type": "stream",
          "name": "stdout",
          "text": [
            "O dataset possui 7043 linhas, com 21 colunas\n"
          ]
        }
      ]
    },
    {
      "cell_type": "code",
      "source": [
        "# tipos das colunas\n",
        "df.dtypes"
      ],
      "metadata": {
        "colab": {
          "base_uri": "https://localhost:8080/"
        },
        "id": "rs6ibIXfs5-R",
        "outputId": "f1a67804-4faf-41e6-e89d-9337ce30aad3"
      },
      "execution_count": 4,
      "outputs": [
        {
          "output_type": "execute_result",
          "data": {
            "text/plain": [
              "customerID           object\n",
              "gender               object\n",
              "SeniorCitizen         int64\n",
              "Partner              object\n",
              "Dependents           object\n",
              "tenure                int64\n",
              "PhoneService         object\n",
              "MultipleLines        object\n",
              "InternetService      object\n",
              "OnlineSecurity       object\n",
              "OnlineBackup         object\n",
              "DeviceProtection     object\n",
              "TechSupport          object\n",
              "StreamingTV          object\n",
              "StreamingMovies      object\n",
              "Contract             object\n",
              "PaperlessBilling     object\n",
              "PaymentMethod        object\n",
              "MonthlyCharges      float64\n",
              "TotalCharges         object\n",
              "Churn                object\n",
              "dtype: object"
            ]
          },
          "metadata": {},
          "execution_count": 4
        }
      ]
    },
    {
      "cell_type": "markdown",
      "source": [
        "A maioria das colunas são do tipo `object`, entretanto o atributo `TotalCharges`, sendo tambem do tipo `object`, possui valores numericos. Nesse caso devemos trata-lo como um float. Para isso iremos utilizar o metodo `to_numeric` da biblioteca ***pandas***, onde os valores que não puderem ser transformados para numericos irão ser considerados como **NaN**. Tambem iremos tratar esse mesmos valores nulos para 0."
      ],
      "metadata": {
        "id": "v5rzICopGMac"
      }
    },
    {
      "cell_type": "code",
      "source": [
        "df['TotalCharges'] = pd.to_numeric(df['TotalCharges'], errors='coerce')"
      ],
      "metadata": {
        "id": "QrEfHOXlGREC"
      },
      "execution_count": 5,
      "outputs": []
    },
    {
      "cell_type": "code",
      "source": [
        "# valores nulos\n",
        "print(df.isnull().sum())"
      ],
      "metadata": {
        "colab": {
          "base_uri": "https://localhost:8080/"
        },
        "id": "BbXjtaf8rx7x",
        "outputId": "6f84d0e5-27f0-4675-b0fe-2ff77de7d022"
      },
      "execution_count": 6,
      "outputs": [
        {
          "output_type": "stream",
          "name": "stdout",
          "text": [
            "customerID           0\n",
            "gender               0\n",
            "SeniorCitizen        0\n",
            "Partner              0\n",
            "Dependents           0\n",
            "tenure               0\n",
            "PhoneService         0\n",
            "MultipleLines        0\n",
            "InternetService      0\n",
            "OnlineSecurity       0\n",
            "OnlineBackup         0\n",
            "DeviceProtection     0\n",
            "TechSupport          0\n",
            "StreamingTV          0\n",
            "StreamingMovies      0\n",
            "Contract             0\n",
            "PaperlessBilling     0\n",
            "PaymentMethod        0\n",
            "MonthlyCharges       0\n",
            "TotalCharges        11\n",
            "Churn                0\n",
            "dtype: int64\n"
          ]
        }
      ]
    },
    {
      "cell_type": "code",
      "source": [
        "df['TotalCharges'].fillna(0, inplace=True)"
      ],
      "metadata": {
        "id": "46i4NsatG_6X"
      },
      "execution_count": 7,
      "outputs": []
    },
    {
      "cell_type": "code",
      "source": [
        "# resumo statístico das dos atributos\n",
        "df.describe()"
      ],
      "metadata": {
        "colab": {
          "base_uri": "https://localhost:8080/",
          "height": 364
        },
        "id": "C4TlmTzAsKtZ",
        "outputId": "89ad4b95-d49b-4882-b9de-f58d190546d0"
      },
      "execution_count": 8,
      "outputs": [
        {
          "output_type": "execute_result",
          "data": {
            "text/plain": [
              "       SeniorCitizen       tenure  MonthlyCharges  TotalCharges\n",
              "count    7043.000000  7043.000000     7043.000000   7043.000000\n",
              "mean        0.162147    32.371149       64.761692   2279.734304\n",
              "std         0.368612    24.559481       30.090047   2266.794470\n",
              "min         0.000000     0.000000       18.250000      0.000000\n",
              "25%         0.000000     9.000000       35.500000    398.550000\n",
              "50%         0.000000    29.000000       70.350000   1394.550000\n",
              "75%         0.000000    55.000000       89.850000   3786.600000\n",
              "max         1.000000    72.000000      118.750000   8684.800000"
            ],
            "text/html": [
              "\n",
              "  <div id=\"df-053d9b10-921e-46ed-b6b2-58e004bc37e3\">\n",
              "    <div class=\"colab-df-container\">\n",
              "      <div>\n",
              "<style scoped>\n",
              "    .dataframe tbody tr th:only-of-type {\n",
              "        vertical-align: middle;\n",
              "    }\n",
              "\n",
              "    .dataframe tbody tr th {\n",
              "        vertical-align: top;\n",
              "    }\n",
              "\n",
              "    .dataframe thead th {\n",
              "        text-align: right;\n",
              "    }\n",
              "</style>\n",
              "<table border=\"1\" class=\"dataframe\">\n",
              "  <thead>\n",
              "    <tr style=\"text-align: right;\">\n",
              "      <th></th>\n",
              "      <th>SeniorCitizen</th>\n",
              "      <th>tenure</th>\n",
              "      <th>MonthlyCharges</th>\n",
              "      <th>TotalCharges</th>\n",
              "    </tr>\n",
              "  </thead>\n",
              "  <tbody>\n",
              "    <tr>\n",
              "      <th>count</th>\n",
              "      <td>7043.000000</td>\n",
              "      <td>7043.000000</td>\n",
              "      <td>7043.000000</td>\n",
              "      <td>7043.000000</td>\n",
              "    </tr>\n",
              "    <tr>\n",
              "      <th>mean</th>\n",
              "      <td>0.162147</td>\n",
              "      <td>32.371149</td>\n",
              "      <td>64.761692</td>\n",
              "      <td>2279.734304</td>\n",
              "    </tr>\n",
              "    <tr>\n",
              "      <th>std</th>\n",
              "      <td>0.368612</td>\n",
              "      <td>24.559481</td>\n",
              "      <td>30.090047</td>\n",
              "      <td>2266.794470</td>\n",
              "    </tr>\n",
              "    <tr>\n",
              "      <th>min</th>\n",
              "      <td>0.000000</td>\n",
              "      <td>0.000000</td>\n",
              "      <td>18.250000</td>\n",
              "      <td>0.000000</td>\n",
              "    </tr>\n",
              "    <tr>\n",
              "      <th>25%</th>\n",
              "      <td>0.000000</td>\n",
              "      <td>9.000000</td>\n",
              "      <td>35.500000</td>\n",
              "      <td>398.550000</td>\n",
              "    </tr>\n",
              "    <tr>\n",
              "      <th>50%</th>\n",
              "      <td>0.000000</td>\n",
              "      <td>29.000000</td>\n",
              "      <td>70.350000</td>\n",
              "      <td>1394.550000</td>\n",
              "    </tr>\n",
              "    <tr>\n",
              "      <th>75%</th>\n",
              "      <td>0.000000</td>\n",
              "      <td>55.000000</td>\n",
              "      <td>89.850000</td>\n",
              "      <td>3786.600000</td>\n",
              "    </tr>\n",
              "    <tr>\n",
              "      <th>max</th>\n",
              "      <td>1.000000</td>\n",
              "      <td>72.000000</td>\n",
              "      <td>118.750000</td>\n",
              "      <td>8684.800000</td>\n",
              "    </tr>\n",
              "  </tbody>\n",
              "</table>\n",
              "</div>\n",
              "      <button class=\"colab-df-convert\" onclick=\"convertToInteractive('df-053d9b10-921e-46ed-b6b2-58e004bc37e3')\"\n",
              "              title=\"Convert this dataframe to an interactive table.\"\n",
              "              style=\"display:none;\">\n",
              "        \n",
              "  <svg xmlns=\"http://www.w3.org/2000/svg\" height=\"24px\"viewBox=\"0 0 24 24\"\n",
              "       width=\"24px\">\n",
              "    <path d=\"M0 0h24v24H0V0z\" fill=\"none\"/>\n",
              "    <path d=\"M18.56 5.44l.94 2.06.94-2.06 2.06-.94-2.06-.94-.94-2.06-.94 2.06-2.06.94zm-11 1L8.5 8.5l.94-2.06 2.06-.94-2.06-.94L8.5 2.5l-.94 2.06-2.06.94zm10 10l.94 2.06.94-2.06 2.06-.94-2.06-.94-.94-2.06-.94 2.06-2.06.94z\"/><path d=\"M17.41 7.96l-1.37-1.37c-.4-.4-.92-.59-1.43-.59-.52 0-1.04.2-1.43.59L10.3 9.45l-7.72 7.72c-.78.78-.78 2.05 0 2.83L4 21.41c.39.39.9.59 1.41.59.51 0 1.02-.2 1.41-.59l7.78-7.78 2.81-2.81c.8-.78.8-2.07 0-2.86zM5.41 20L4 18.59l7.72-7.72 1.47 1.35L5.41 20z\"/>\n",
              "  </svg>\n",
              "      </button>\n",
              "      \n",
              "  <style>\n",
              "    .colab-df-container {\n",
              "      display:flex;\n",
              "      flex-wrap:wrap;\n",
              "      gap: 12px;\n",
              "    }\n",
              "\n",
              "    .colab-df-convert {\n",
              "      background-color: #E8F0FE;\n",
              "      border: none;\n",
              "      border-radius: 50%;\n",
              "      cursor: pointer;\n",
              "      display: none;\n",
              "      fill: #1967D2;\n",
              "      height: 32px;\n",
              "      padding: 0 0 0 0;\n",
              "      width: 32px;\n",
              "    }\n",
              "\n",
              "    .colab-df-convert:hover {\n",
              "      background-color: #E2EBFA;\n",
              "      box-shadow: 0px 1px 2px rgba(60, 64, 67, 0.3), 0px 1px 3px 1px rgba(60, 64, 67, 0.15);\n",
              "      fill: #174EA6;\n",
              "    }\n",
              "\n",
              "    [theme=dark] .colab-df-convert {\n",
              "      background-color: #3B4455;\n",
              "      fill: #D2E3FC;\n",
              "    }\n",
              "\n",
              "    [theme=dark] .colab-df-convert:hover {\n",
              "      background-color: #434B5C;\n",
              "      box-shadow: 0px 1px 3px 1px rgba(0, 0, 0, 0.15);\n",
              "      filter: drop-shadow(0px 1px 2px rgba(0, 0, 0, 0.3));\n",
              "      fill: #FFFFFF;\n",
              "    }\n",
              "  </style>\n",
              "\n",
              "      <script>\n",
              "        const buttonEl =\n",
              "          document.querySelector('#df-053d9b10-921e-46ed-b6b2-58e004bc37e3 button.colab-df-convert');\n",
              "        buttonEl.style.display =\n",
              "          google.colab.kernel.accessAllowed ? 'block' : 'none';\n",
              "\n",
              "        async function convertToInteractive(key) {\n",
              "          const element = document.querySelector('#df-053d9b10-921e-46ed-b6b2-58e004bc37e3');\n",
              "          const dataTable =\n",
              "            await google.colab.kernel.invokeFunction('convertToInteractive',\n",
              "                                                     [key], {});\n",
              "          if (!dataTable) return;\n",
              "\n",
              "          const docLinkHtml = 'Like what you see? Visit the ' +\n",
              "            '<a target=\"_blank\" href=https://colab.research.google.com/notebooks/data_table.ipynb>data table notebook</a>'\n",
              "            + ' to learn more about interactive tables.';\n",
              "          element.innerHTML = '';\n",
              "          dataTable['output_type'] = 'display_data';\n",
              "          await google.colab.output.renderOutput(dataTable, element);\n",
              "          const docLink = document.createElement('div');\n",
              "          docLink.innerHTML = docLinkHtml;\n",
              "          element.appendChild(docLink);\n",
              "        }\n",
              "      </script>\n",
              "    </div>\n",
              "  </div>\n",
              "  "
            ]
          },
          "metadata": {},
          "execution_count": 8
        }
      ]
    },
    {
      "cell_type": "markdown",
      "source": [
        "Inicialmente não encontramos outliers entre os valores numericos, com exeção da coluna `SeniorCitizen`, que possui apenas 2 valores possiveis, não representando uma atributo a ser tratado."
      ],
      "metadata": {
        "id": "zoDkywqW9bT4"
      }
    },
    {
      "cell_type": "code",
      "source": [
        "# outliers para os atributos numericos\n",
        "fig, (ax_boxplot_SeniorCitizen, ax_boxplot_tenure, ax_boxplot_MonthlyCharges, ax_boxplot_TotalCharges) = plt.subplots(1, 4, figsize=(15,10))\n",
        "ax_boxplot_SeniorCitizen.boxplot(x=df['SeniorCitizen'], labels=['Senior Citizen']);\n",
        "ax_boxplot_tenure.boxplot(x=df['tenure'], labels=['tenure']);\n",
        "ax_boxplot_MonthlyCharges.boxplot(x=df['MonthlyCharges'], labels=['Monthly Charges']);\n",
        "ax_boxplot_TotalCharges.boxplot(x=df['TotalCharges'], labels=['Total Charges']);"
      ],
      "metadata": {
        "colab": {
          "base_uri": "https://localhost:8080/",
          "height": 54
        },
        "id": "GXtJYixluZ2x",
        "outputId": "babfe29c-1e6b-4e80-b4f5-565675975e4b"
      },
      "execution_count": 9,
      "outputs": [
        {
          "output_type": "display_data",
          "data": {
            "text/plain": [
              "<Figure size 1080x720 with 4 Axes>"
            ],
            "image/png": "[encoded data removed]"
          },
          "metadata": {
            "needs_background": "light"
          }
        }
      ]
    },
    {
      "cell_type": "code",
      "source": [
        "# distribuição dos atributos numericos\n",
        "df.hist(figsize=(12,8), grid=False);"
      ],
      "metadata": {
        "colab": {
          "base_uri": "https://localhost:8080/",
          "height": 54
        },
        "id": "RrD8HV6f6l3U",
        "outputId": "4a052eca-319e-4447-b83c-4aafd5af1662"
      },
      "execution_count": 10,
      "outputs": [
        {
          "output_type": "display_data",
          "data": {
            "text/plain": [
              "<Figure size 864x576 with 4 Axes>"
            ],
            "image/png": "[encoded data removed]"
          },
          "metadata": {
            "needs_background": "light"
          }
        }
      ]
    },
    {
      "cell_type": "markdown",
      "source": [
        "No exemplo seguinte, plotamos os graficos de barra para os atributo categóricos, onde podemos ver suas distribuições e possiveis valores encontrados em suas respectivas colunas."
      ],
      "metadata": {
        "id": "y-c7-9G4-Dnh"
      }
    },
    {
      "cell_type": "code",
      "source": [
        "column_names = df.drop(['SeniorCitizen', 'tenure', 'MonthlyCharges', 'customerID', 'TotalCharges'], axis=1).columns\n",
        "num_plots = len(column_names)\n",
        "\n",
        "fig, ax = plt.subplots(nrows=4, ncols=4, figsize=(20,20))\n",
        "fig.subplots_adjust(hspace=1, wspace=1)\n",
        "\n",
        "idx = 0\n",
        "for col in column_names:\n",
        "    idx += 1\n",
        "    plt.subplot(4, 4, idx)\n",
        "    sns.countplot(x=col, data=df)\n",
        "    plt.title(col, fontsize=10)\n",
        "plt.tight_layout()"
      ],
      "metadata": {
        "colab": {
          "base_uri": "https://localhost:8080/",
          "height": 54
        },
        "id": "oj2Ng8PP9f5T",
        "outputId": "9ba168ab-f04f-4119-c9e7-bf8caba9831d"
      },
      "execution_count": 11,
      "outputs": [
        {
          "output_type": "display_data",
          "data": {
            "text/plain": [
              "<Figure size 1440x1440 with 16 Axes>"
            ],
            "image/png": "[encoded data removed]"
          },
          "metadata": {
            "needs_background": "light"
          }
        }
      ]
    },
    {
      "cell_type": "markdown",
      "source": [
        "Inicialmente podemos ver que o dataset possui um desbalanceamento em relação a classe alvo `Churn`, em uma proporção maior para os valores iguais a `No`. Durante o processo de *split* faremos o balanceamento para o dataset de treino."
      ],
      "metadata": {
        "id": "9_99UijdRxBT"
      }
    },
    {
      "cell_type": "code",
      "source": [
        "# procentagem da classe 'Churn'\n",
        "(df['Churn'].value_counts() / df.shape[0])*100"
      ],
      "metadata": {
        "colab": {
          "base_uri": "https://localhost:8080/"
        },
        "id": "9mYHZwe6R5zz",
        "outputId": "03fad3a3-f551-4348-c7ca-58f4b472b88a"
      },
      "execution_count": 12,
      "outputs": [
        {
          "output_type": "execute_result",
          "data": {
            "text/plain": [
              "No     73.463013\n",
              "Yes    26.536987\n",
              "Name: Churn, dtype: float64"
            ]
          },
          "metadata": {},
          "execution_count": 12
        }
      ]
    },
    {
      "cell_type": "markdown",
      "source": [
        "### No internet service or phone service?"
      ],
      "metadata": {
        "id": "fw6t7W_U3qQO"
      }
    },
    {
      "cell_type": "markdown",
      "source": [
        "Analisando a distribuição de algumas colunas, percebi que, entre elas, existem uma relação na quantidade de algumas categorias caso não tenha servico de telefone (`PhoneService`) ou que não tenha servico de internet (`InternetService`).\n",
        "\n",
        "Vamos pegar por exemplo o atributo `InternetService`."
      ],
      "metadata": {
        "id": "7Ig6FFrN_IKy"
      }
    },
    {
      "cell_type": "code",
      "source": [
        "# quantidade de entradas no dataset para clientes que não possuem servico de internet\n",
        "df_no_internet_service = df[df['InternetService'] == 'No']\n",
        "df_no_internet_service.shape[0]"
      ],
      "metadata": {
        "colab": {
          "base_uri": "https://localhost:8080/"
        },
        "id": "Gi_aRkUp3xuM",
        "outputId": "a4eef061-49b4-4fd0-a85d-e9e7385aeb90"
      },
      "execution_count": 13,
      "outputs": [
        {
          "output_type": "execute_result",
          "data": {
            "text/plain": [
              "1526"
            ]
          },
          "metadata": {},
          "execution_count": 13
        }
      ]
    },
    {
      "cell_type": "code",
      "source": [
        "df_no_internet_service.head()"
      ],
      "metadata": {
        "colab": {
          "base_uri": "https://localhost:8080/",
          "height": 357
        },
        "id": "Yq9y1qI04ULP",
        "outputId": "ce679e3b-ebee-4b5e-d6bf-e2ecb2310098"
      },
      "execution_count": 14,
      "outputs": [
        {
          "output_type": "execute_result",
          "data": {
            "text/plain": [
              "    customerID  gender  SeniorCitizen Partner Dependents  tenure PhoneService  \\\n",
              "11  7469-LKBCI    Male              0      No         No      16          Yes   \n",
              "16  8191-XWSZG  Female              0      No         No      52          Yes   \n",
              "21  1680-VDCWW    Male              0     Yes         No      12          Yes   \n",
              "22  1066-JKSGK    Male              0      No         No       1          Yes   \n",
              "33  7310-EGVHZ    Male              0      No         No       1          Yes   \n",
              "\n",
              "   MultipleLines InternetService       OnlineSecurity         OnlineBackup  \\\n",
              "11            No              No  No internet service  No internet service   \n",
              "16            No              No  No internet service  No internet service   \n",
              "21            No              No  No internet service  No internet service   \n",
              "22            No              No  No internet service  No internet service   \n",
              "33            No              No  No internet service  No internet service   \n",
              "\n",
              "       DeviceProtection          TechSupport          StreamingTV  \\\n",
              "11  No internet service  No internet service  No internet service   \n",
              "16  No internet service  No internet service  No internet service   \n",
              "21  No internet service  No internet service  No internet service   \n",
              "22  No internet service  No internet service  No internet service   \n",
              "33  No internet service  No internet service  No internet service   \n",
              "\n",
              "        StreamingMovies        Contract PaperlessBilling  \\\n",
              "11  No internet service        Two year               No   \n",
              "16  No internet service        One year               No   \n",
              "21  No internet service        One year               No   \n",
              "22  No internet service  Month-to-month               No   \n",
              "33  No internet service  Month-to-month               No   \n",
              "\n",
              "                PaymentMethod  MonthlyCharges  TotalCharges Churn  \n",
              "11    Credit card (automatic)           18.95        326.80    No  \n",
              "16               Mailed check           20.65       1022.95    No  \n",
              "21  Bank transfer (automatic)           19.80        202.25    No  \n",
              "22               Mailed check           20.15         20.15   Yes  \n",
              "33  Bank transfer (automatic)           20.20         20.20    No  "
            ],
            "text/html": [
              "\n",
              "  <div id=\"df-d94698ec-a00f-4684-b6c9-5e24ae76960e\">\n",
              "    <div class=\"colab-df-container\">\n",
              "      <div>\n",
              "<style scoped>\n",
              "    .dataframe tbody tr th:only-of-type {\n",
              "        vertical-align: middle;\n",
              "    }\n",
              "\n",
              "    .dataframe tbody tr th {\n",
              "        vertical-align: top;\n",
              "    }\n",
              "\n",
              "    .dataframe thead th {\n",
              "        text-align: right;\n",
              "    }\n",
              "</style>\n",
              "<table border=\"1\" class=\"dataframe\">\n",
              "  <thead>\n",
              "    <tr style=\"text-align: right;\">\n",
              "      <th></th>\n",
              "      <th>customerID</th>\n",
              "      <th>gender</th>\n",
              "      <th>SeniorCitizen</th>\n",
              "      <th>Partner</th>\n",
              "      <th>Dependents</th>\n",
              "      <th>tenure</th>\n",
              "      <th>PhoneService</th>\n",
              "      <th>MultipleLines</th>\n",
              "      <th>InternetService</th>\n",
              "      <th>OnlineSecurity</th>\n",
              "      <th>OnlineBackup</th>\n",
              "      <th>DeviceProtection</th>\n",
              "      <th>TechSupport</th>\n",
              "      <th>StreamingTV</th>\n",
              "      <th>StreamingMovies</th>\n",
              "      <th>Contract</th>\n",
              "      <th>PaperlessBilling</th>\n",
              "      <th>PaymentMethod</th>\n",
              "      <th>MonthlyCharges</th>\n",
              "      <th>TotalCharges</th>\n",
              "      <th>Churn</th>\n",
              "    </tr>\n",
              "  </thead>\n",
              "  <tbody>\n",
              "    <tr>\n",
              "      <th>11</th>\n",
              "      <td>7469-LKBCI</td>\n",
              "      <td>Male</td>\n",
              "      <td>0</td>\n",
              "      <td>No</td>\n",
              "      <td>No</td>\n",
              "      <td>16</td>\n",
              "      <td>Yes</td>\n",
              "      <td>No</td>\n",
              "      <td>No</td>\n",
              "      <td>No internet service</td>\n",
              "      <td>No internet service</td>\n",
              "      <td>No internet service</td>\n",
              "      <td>No internet service</td>\n",
              "      <td>No internet service</td>\n",
              "      <td>No internet service</td>\n",
              "      <td>Two year</td>\n",
              "      <td>No</td>\n",
              "      <td>Credit card (automatic)</td>\n",
              "      <td>18.95</td>\n",
              "      <td>326.80</td>\n",
              "      <td>No</td>\n",
              "    </tr>\n",
              "    <tr>\n",
              "      <th>16</th>\n",
              "      <td>8191-XWSZG</td>\n",
              "      <td>Female</td>\n",
              "      <td>0</td>\n",
              "      <td>No</td>\n",
              "      <td>No</td>\n",
              "      <td>52</td>\n",
              "      <td>Yes</td>\n",
              "      <td>No</td>\n",
              "      <td>No</td>\n",
              "      <td>No internet service</td>\n",
              "      <td>No internet service</td>\n",
              "      <td>No internet service</td>\n",
              "      <td>No internet service</td>\n",
              "      <td>No internet service</td>\n",
              "      <td>No internet service</td>\n",
              "      <td>One year</td>\n",
              "      <td>No</td>\n",
              "      <td>Mailed check</td>\n",
              "      <td>20.65</td>\n",
              "      <td>1022.95</td>\n",
              "      <td>No</td>\n",
              "    </tr>\n",
              "    <tr>\n",
              "      <th>21</th>\n",
              "      <td>1680-VDCWW</td>\n",
              "      <td>Male</td>\n",
              "      <td>0</td>\n",
              "      <td>Yes</td>\n",
              "      <td>No</td>\n",
              "      <td>12</td>\n",
              "      <td>Yes</td>\n",
              "      <td>No</td>\n",
              "      <td>No</td>\n",
              "      <td>No internet service</td>\n",
              "      <td>No internet service</td>\n",
              "      <td>No internet service</td>\n",
              "      <td>No internet service</td>\n",
              "      <td>No internet service</td>\n",
              "      <td>No internet service</td>\n",
              "      <td>One year</td>\n",
              "      <td>No</td>\n",
              "      <td>Bank transfer (automatic)</td>\n",
              "      <td>19.80</td>\n",
              "      <td>202.25</td>\n",
              "      <td>No</td>\n",
              "    </tr>\n",
              "    <tr>\n",
              "      <th>22</th>\n",
              "      <td>1066-JKSGK</td>\n",
              "      <td>Male</td>\n",
              "      <td>0</td>\n",
              "      <td>No</td>\n",
              "      <td>No</td>\n",
              "      <td>1</td>\n",
              "      <td>Yes</td>\n",
              "      <td>No</td>\n",
              "      <td>No</td>\n",
              "      <td>No internet service</td>\n",
              "      <td>No internet service</td>\n",
              "      <td>No internet service</td>\n",
              "      <td>No internet service</td>\n",
              "      <td>No internet service</td>\n",
              "      <td>No internet service</td>\n",
              "      <td>Month-to-month</td>\n",
              "      <td>No</td>\n",
              "      <td>Mailed check</td>\n",
              "      <td>20.15</td>\n",
              "      <td>20.15</td>\n",
              "      <td>Yes</td>\n",
              "    </tr>\n",
              "    <tr>\n",
              "      <th>33</th>\n",
              "      <td>7310-EGVHZ</td>\n",
              "      <td>Male</td>\n",
              "      <td>0</td>\n",
              "      <td>No</td>\n",
              "      <td>No</td>\n",
              "      <td>1</td>\n",
              "      <td>Yes</td>\n",
              "      <td>No</td>\n",
              "      <td>No</td>\n",
              "      <td>No internet service</td>\n",
              "      <td>No internet service</td>\n",
              "      <td>No internet service</td>\n",
              "      <td>No internet service</td>\n",
              "      <td>No internet service</td>\n",
              "      <td>No internet service</td>\n",
              "      <td>Month-to-month</td>\n",
              "      <td>No</td>\n",
              "      <td>Bank transfer (automatic)</td>\n",
              "      <td>20.20</td>\n",
              "      <td>20.20</td>\n",
              "      <td>No</td>\n",
              "    </tr>\n",
              "  </tbody>\n",
              "</table>\n",
              "</div>\n",
              "      <button class=\"colab-df-convert\" onclick=\"convertToInteractive('df-d94698ec-a00f-4684-b6c9-5e24ae76960e')\"\n",
              "              title=\"Convert this dataframe to an interactive table.\"\n",
              "              style=\"display:none;\">\n",
              "        \n",
              "  <svg xmlns=\"http://www.w3.org/2000/svg\" height=\"24px\"viewBox=\"0 0 24 24\"\n",
              "       width=\"24px\">\n",
              "    <path d=\"M0 0h24v24H0V0z\" fill=\"none\"/>\n",
              "    <path d=\"M18.56 5.44l.94 2.06.94-2.06 2.06-.94-2.06-.94-.94-2.06-.94 2.06-2.06.94zm-11 1L8.5 8.5l.94-2.06 2.06-.94-2.06-.94L8.5 2.5l-.94 2.06-2.06.94zm10 10l.94 2.06.94-2.06 2.06-.94-2.06-.94-.94-2.06-.94 2.06-2.06.94z\"/><path d=\"M17.41 7.96l-1.37-1.37c-.4-.4-.92-.59-1.43-.59-.52 0-1.04.2-1.43.59L10.3 9.45l-7.72 7.72c-.78.78-.78 2.05 0 2.83L4 21.41c.39.39.9.59 1.41.59.51 0 1.02-.2 1.41-.59l7.78-7.78 2.81-2.81c.8-.78.8-2.07 0-2.86zM5.41 20L4 18.59l7.72-7.72 1.47 1.35L5.41 20z\"/>\n",
              "  </svg>\n",
              "      </button>\n",
              "      \n",
              "  <style>\n",
              "    .colab-df-container {\n",
              "      display:flex;\n",
              "      flex-wrap:wrap;\n",
              "      gap: 12px;\n",
              "    }\n",
              "\n",
              "    .colab-df-convert {\n",
              "      background-color: #E8F0FE;\n",
              "      border: none;\n",
              "      border-radius: 50%;\n",
              "      cursor: pointer;\n",
              "      display: none;\n",
              "      fill: #1967D2;\n",
              "      height: 32px;\n",
              "      padding: 0 0 0 0;\n",
              "      width: 32px;\n",
              "    }\n",
              "\n",
              "    .colab-df-convert:hover {\n",
              "      background-color: #E2EBFA;\n",
              "      box-shadow: 0px 1px 2px rgba(60, 64, 67, 0.3), 0px 1px 3px 1px rgba(60, 64, 67, 0.15);\n",
              "      fill: #174EA6;\n",
              "    }\n",
              "\n",
              "    [theme=dark] .colab-df-convert {\n",
              "      background-color: #3B4455;\n",
              "      fill: #D2E3FC;\n",
              "    }\n",
              "\n",
              "    [theme=dark] .colab-df-convert:hover {\n",
              "      background-color: #434B5C;\n",
              "      box-shadow: 0px 1px 3px 1px rgba(0, 0, 0, 0.15);\n",
              "      filter: drop-shadow(0px 1px 2px rgba(0, 0, 0, 0.3));\n",
              "      fill: #FFFFFF;\n",
              "    }\n",
              "  </style>\n",
              "\n",
              "      <script>\n",
              "        const buttonEl =\n",
              "          document.querySelector('#df-d94698ec-a00f-4684-b6c9-5e24ae76960e button.colab-df-convert');\n",
              "        buttonEl.style.display =\n",
              "          google.colab.kernel.accessAllowed ? 'block' : 'none';\n",
              "\n",
              "        async function convertToInteractive(key) {\n",
              "          const element = document.querySelector('#df-d94698ec-a00f-4684-b6c9-5e24ae76960e');\n",
              "          const dataTable =\n",
              "            await google.colab.kernel.invokeFunction('convertToInteractive',\n",
              "                                                     [key], {});\n",
              "          if (!dataTable) return;\n",
              "\n",
              "          const docLinkHtml = 'Like what you see? Visit the ' +\n",
              "            '<a target=\"_blank\" href=https://colab.research.google.com/notebooks/data_table.ipynb>data table notebook</a>'\n",
              "            + ' to learn more about interactive tables.';\n",
              "          element.innerHTML = '';\n",
              "          dataTable['output_type'] = 'display_data';\n",
              "          await google.colab.output.renderOutput(dataTable, element);\n",
              "          const docLink = document.createElement('div');\n",
              "          docLink.innerHTML = docLinkHtml;\n",
              "          element.appendChild(docLink);\n",
              "        }\n",
              "      </script>\n",
              "    </div>\n",
              "  </div>\n",
              "  "
            ]
          },
          "metadata": {},
          "execution_count": 14
        }
      ]
    },
    {
      "cell_type": "markdown",
      "source": [
        "Percebemos, que em todas as entradas onde a coluna `InternetService` e igual a `'No'`, respectivamente os atributos com relação a serviços de internet tambem teram categorias do tipo `'No internet service'` na mesma proporção."
      ],
      "metadata": {
        "id": "LjwPfiWK5nDK"
      }
    },
    {
      "cell_type": "code",
      "source": [
        "df_no_internet_service[['OnlineSecurity','OnlineBackup','DeviceProtection','TechSupport','StreamingTV','StreamingMovies']].value_counts()"
      ],
      "metadata": {
        "colab": {
          "base_uri": "https://localhost:8080/"
        },
        "id": "E3wPC1EC4tEY",
        "outputId": "dc9666de-d2cb-4d7c-f933-7ebd9ac44144"
      },
      "execution_count": 15,
      "outputs": [
        {
          "output_type": "execute_result",
          "data": {
            "text/plain": [
              "OnlineSecurity       OnlineBackup         DeviceProtection     TechSupport          StreamingTV          StreamingMovies    \n",
              "No internet service  No internet service  No internet service  No internet service  No internet service  No internet service    1526\n",
              "dtype: int64"
            ]
          },
          "metadata": {},
          "execution_count": 15
        }
      ]
    },
    {
      "cell_type": "markdown",
      "source": [
        "Para validar essa teoria, fazemos uma analise em outra coluna com relação a servico de internet, para verificar se possuem a mesma quantidade de entradas da coluna `InternetService` quando o valor do atributo e igual a `'No'`."
      ],
      "metadata": {
        "id": "YvnAC_7o6JNA"
      }
    },
    {
      "cell_type": "code",
      "source": [
        "# quantidade de entradas quando a coluna 'TechSupport' possue valor 'No internet service'\n",
        "df[df['TechSupport'] == 'No internet service'].shape[0]"
      ],
      "metadata": {
        "colab": {
          "base_uri": "https://localhost:8080/"
        },
        "id": "aDCvE3Wf5S84",
        "outputId": "9c46b8ee-b6bd-4d50-f513-5f1ea273b6b4"
      },
      "execution_count": 16,
      "outputs": [
        {
          "output_type": "execute_result",
          "data": {
            "text/plain": [
              "1526"
            ]
          },
          "metadata": {},
          "execution_count": 16
        }
      ]
    },
    {
      "cell_type": "markdown",
      "source": [
        "Essa mesma relação/teoria aparece para a coluna `MultipleLines`. Quando seu valor e igual a `'No phone service'`, a mesma proporção aparece para a coluna `PhoneService` com valores `'No'`."
      ],
      "metadata": {
        "id": "FHKLfWc967jx"
      }
    },
    {
      "cell_type": "code",
      "source": [
        "df_no_mutiline = df[df['MultipleLines'] == 'No phone service']\n",
        "df_no_mutiline.shape[0]"
      ],
      "metadata": {
        "colab": {
          "base_uri": "https://localhost:8080/"
        },
        "id": "u5ail17DuShm",
        "outputId": "e608e415-4b42-498b-c599-6ab470729ccb"
      },
      "execution_count": 17,
      "outputs": [
        {
          "output_type": "execute_result",
          "data": {
            "text/plain": [
              "682"
            ]
          },
          "metadata": {},
          "execution_count": 17
        }
      ]
    },
    {
      "cell_type": "code",
      "source": [
        "df_no_mutiline['PhoneService'].value_counts()"
      ],
      "metadata": {
        "colab": {
          "base_uri": "https://localhost:8080/"
        },
        "id": "yG4_C3dqukZd",
        "outputId": "327f8a5f-585e-4eed-94c9-7b0c0af1ac54"
      },
      "execution_count": 18,
      "outputs": [
        {
          "output_type": "execute_result",
          "data": {
            "text/plain": [
              "No    682\n",
              "Name: PhoneService, dtype: int64"
            ]
          },
          "metadata": {},
          "execution_count": 18
        }
      ]
    },
    {
      "cell_type": "markdown",
      "source": [
        "Com essa teoria proposta, podemos, aparentemente, subtrair alguns valores para algumas colunas, assim quando aplicarmos o `LabelEncoder()` e/ou `HotOneEncoder()` teremos menos colunas e valores em excesso.\n",
        "\n",
        "Inicialmente não retirarei esses dados, seguindo com a tranformação dos mesmo normalmente."
      ],
      "metadata": {
        "id": "EU7sEDLD7jAh"
      }
    },
    {
      "cell_type": "markdown",
      "source": [
        "## Preparação dos Dados"
      ],
      "metadata": {
        "id": "fqoTQjJLp340"
      }
    },
    {
      "cell_type": "markdown",
      "source": [
        "Para alguns algoritmos de ML, é nescessario a transformação de colunas do tipo categorico para tipos int/float. Nesse casos podemos usar as tecnicas de `LabelEncoder()` e/ou `HotOneEncoder()`.\n",
        "* `LabelEncoder` Funciona convertendo cada valor em uma coluna em um número. podem impor uma relação ordinal onde não existe tal relação ex: 0 < 1 < 2. Isso pode causar problemas e uma codificação one-hot pode ser usada em seu lugar.\n",
        "* `HotOneEncoder` Nesta estratégia, cada valor de categoria é convertido em uma nova coluna e atribuído um valor 1 ou 0 (notação para verdadeiro/falso) à coluna"
      ],
      "metadata": {
        "id": "Ha8uUDc_OrpF"
      }
    },
    {
      "cell_type": "markdown",
      "source": [
        "Segundo esse post no forum **[datascience.stackexchange.com](https://datascience.stackexchange.com/questions/9443/when-to-use-one-hot-encoding-vs-labelencoder-vs-dictvectorizor)**,\n",
        "* `HotOneEncoder` Quando os valores que estão próximos uns dos outros na codificação do rótulo correspondem a valores de destino que não estão próximos (dados não lineares) ou quando o traço categórico não é ordinal (cachorro, gato, rato).\n",
        "* `LabelEncoder` O traço categórico é ordinal (Jr. kg, Sr. kg, Ensino Fundamental, Ensino Médio, etc) ou quando podemos criar um codificador de rótulos que atribui rótulos próximos a categorias semelhantes: Isso leva a menos divisões nas árvores, reduzindo o tempo de execução."
      ],
      "metadata": {
        "id": "acoU6FdgQXRk"
      }
    },
    {
      "cell_type": "markdown",
      "source": [
        "Em todo caso iremos criar dois **dataframes**, um para a utilização de `LabelEncoder` junto com `OneHotEncoder` e outro apenas com `OneHotEncoder`. "
      ],
      "metadata": {
        "id": "yM98lje-Un31"
      }
    },
    {
      "cell_type": "markdown",
      "source": [
        "### LabelEncoder + HotEncoder"
      ],
      "metadata": {
        "id": "Qb2stCk-VbXE"
      }
    },
    {
      "cell_type": "code",
      "source": [
        "# copia do dataframe para LabelEncoder + OneHotEncoder\n",
        "from sklearn.preprocessing import LabelEncoder\n",
        "from sklearn.preprocessing import OneHotEncoder\n",
        "\n",
        "df_copy_label_hot = df.copy()"
      ],
      "metadata": {
        "id": "pnFjYXEvv1W9"
      },
      "execution_count": 19,
      "outputs": []
    },
    {
      "cell_type": "code",
      "source": [
        "all_columns_hot_encoder = OneHotEncoder(sparse=False, dtype=int)"
      ],
      "metadata": {
        "id": "onQjjM1XRXKV"
      },
      "execution_count": 20,
      "outputs": []
    },
    {
      "cell_type": "code",
      "source": [
        "all_columns_hot_encoded = all_columns_hot_encoder.fit_transform(df_copy_label_hot[['gender', 'Partner', 'Dependents', 'PhoneService', 'PaperlessBilling',\n",
        "                                                                'MultipleLines', 'InternetService', 'OnlineSecurity', 'OnlineBackup', 'DeviceProtection', 'TechSupport', \n",
        "                                                                'StreamingTV', 'StreamingMovies', 'PaymentMethod']])"
      ],
      "metadata": {
        "id": "IUEulL3bRYqV"
      },
      "execution_count": 21,
      "outputs": []
    },
    {
      "cell_type": "code",
      "source": [
        "all_columns_hot_encoder.get_feature_names_out()"
      ],
      "metadata": {
        "id": "EezMLxAnRhpe",
        "colab": {
          "base_uri": "https://localhost:8080/"
        },
        "outputId": "6a59f6fc-c211-4c72-f60a-6bc8b5858bf3"
      },
      "execution_count": 22,
      "outputs": [
        {
          "output_type": "execute_result",
          "data": {
            "text/plain": [
              "array(['gender_Female', 'gender_Male', 'Partner_No', 'Partner_Yes',\n",
              "       'Dependents_No', 'Dependents_Yes', 'PhoneService_No',\n",
              "       'PhoneService_Yes', 'PaperlessBilling_No', 'PaperlessBilling_Yes',\n",
              "       'MultipleLines_No', 'MultipleLines_No phone service',\n",
              "       'MultipleLines_Yes', 'InternetService_DSL',\n",
              "       'InternetService_Fiber optic', 'InternetService_No',\n",
              "       'OnlineSecurity_No', 'OnlineSecurity_No internet service',\n",
              "       'OnlineSecurity_Yes', 'OnlineBackup_No',\n",
              "       'OnlineBackup_No internet service', 'OnlineBackup_Yes',\n",
              "       'DeviceProtection_No', 'DeviceProtection_No internet service',\n",
              "       'DeviceProtection_Yes', 'TechSupport_No',\n",
              "       'TechSupport_No internet service', 'TechSupport_Yes',\n",
              "       'StreamingTV_No', 'StreamingTV_No internet service',\n",
              "       'StreamingTV_Yes', 'StreamingMovies_No',\n",
              "       'StreamingMovies_No internet service', 'StreamingMovies_Yes',\n",
              "       'PaymentMethod_Bank transfer (automatic)',\n",
              "       'PaymentMethod_Credit card (automatic)',\n",
              "       'PaymentMethod_Electronic check', 'PaymentMethod_Mailed check'],\n",
              "      dtype=object)"
            ]
          },
          "metadata": {},
          "execution_count": 22
        }
      ]
    },
    {
      "cell_type": "code",
      "source": [
        "df_copy_label_hot.drop(columns=['gender', 'Partner', 'Dependents', 'PhoneService', 'PaperlessBilling',\n",
        "                              'InternetService', 'OnlineSecurity', 'OnlineBackup', 'DeviceProtection', 'TechSupport', \n",
        "                              'StreamingTV', 'MultipleLines', 'StreamingMovies', 'PaymentMethod'], inplace=True)\n",
        "\n",
        "df_copy_label_hot[['gender_female', 'gender_male','partner_no', 'partner_yes',\n",
        "       'dependents_no', 'dependents_yes', 'phone_service_no',\n",
        "       'phone_service_yes', 'paperless_billing_no', 'paperless_billing_yes',\n",
        "        'multiple_lines_no', 'multiple_lines_no_phone_service',\n",
        "       'multiple_lines_yes','internet_service_dsl',\n",
        "       'internet_service_fiber_optic', 'internet_service_no',\n",
        "       'online_security_no', 'online_security_no_internet_service',\n",
        "       'online_security_yes', 'online_backup_no',\n",
        "       'online_backup_no_internet_service', 'online_backup_yes',\n",
        "       'device_protection_no', 'device_protection_no_internet_service',\n",
        "       'device_protection_yes', 'tech_support_no',\n",
        "       'tech_support_no_internet_service', 'tech_support_yes',\n",
        "       'streaming_tv_no', 'streaming_tv_no_internet_service',\n",
        "       'streaming_tv_yes', 'streaming_movies_no',\n",
        "       'streaming_movies_no_internet_service', 'streaming_movies_yes',\n",
        "       'bank_transfer',\n",
        "       'credit_card',\n",
        "       'electronic_check', 'mailed_check']] = all_columns_hot_encoded"
      ],
      "metadata": {
        "id": "Sl7YThadRxI1"
      },
      "execution_count": 23,
      "outputs": []
    },
    {
      "cell_type": "code",
      "source": [
        "# Churn\n",
        "label_encoder_churn = LabelEncoder()\n",
        "df_copy_label_hot['Churn'] = label_encoder_churn.fit_transform(df_copy_label_hot['Churn'])"
      ],
      "metadata": {
        "id": "XiGmcPi7ScNf"
      },
      "execution_count": 24,
      "outputs": []
    },
    {
      "cell_type": "code",
      "source": [
        "# copia do dataframe para LabelEncoder + OneHotEncoder\n",
        "df_copy_full_hot = df_copy_label_hot.copy()"
      ],
      "metadata": {
        "id": "uOEBYnsLSuJW"
      },
      "execution_count": 25,
      "outputs": []
    },
    {
      "cell_type": "code",
      "source": [
        "# Contract\n",
        "label_encoder_contract = LabelEncoder()\n",
        "#print(df['Contract'].unique())\n",
        "label_encoder_contract.fit(['Month-to-month','One year','Two year'])\n",
        "df_copy_label_hot['Contract'] = label_encoder_contract.transform(df_copy_label_hot['Contract'])"
      ],
      "metadata": {
        "id": "Xq94_Bhnp-wV"
      },
      "execution_count": 26,
      "outputs": []
    },
    {
      "cell_type": "code",
      "source": [
        "df_copy_label_hot.head()"
      ],
      "metadata": {
        "id": "iSgZktgpWeo-",
        "colab": {
          "base_uri": "https://localhost:8080/",
          "height": 340
        },
        "outputId": "dcab90b8-cc62-4350-c9c7-9db814f78a36"
      },
      "execution_count": 27,
      "outputs": [
        {
          "output_type": "execute_result",
          "data": {
            "text/plain": [
              "   customerID  SeniorCitizen  tenure  Contract  MonthlyCharges  TotalCharges  \\\n",
              "0  7590-VHVEG              0       1         0           29.85         29.85   \n",
              "1  5575-GNVDE              0      34         1           56.95       1889.50   \n",
              "2  3668-QPYBK              0       2         0           53.85        108.15   \n",
              "3  7795-CFOCW              0      45         1           42.30       1840.75   \n",
              "4  9237-HQITU              0       2         0           70.70        151.65   \n",
              "\n",
              "   Churn  gender_female  gender_male  partner_no  partner_yes  dependents_no  \\\n",
              "0      0              1            0           0            1              1   \n",
              "1      0              0            1           1            0              1   \n",
              "2      1              0            1           1            0              1   \n",
              "3      0              0            1           1            0              1   \n",
              "4      1              1            0           1            0              1   \n",
              "\n",
              "   dependents_yes  phone_service_no  phone_service_yes  paperless_billing_no  \\\n",
              "0               0                 1                  0                     0   \n",
              "1               0                 0                  1                     1   \n",
              "2               0                 0                  1                     0   \n",
              "3               0                 1                  0                     1   \n",
              "4               0                 0                  1                     0   \n",
              "\n",
              "   paperless_billing_yes  multiple_lines_no  multiple_lines_no_phone_service  \\\n",
              "0                      1                  0                                1   \n",
              "1                      0                  1                                0   \n",
              "2                      1                  1                                0   \n",
              "3                      0                  0                                1   \n",
              "4                      1                  1                                0   \n",
              "\n",
              "   multiple_lines_yes  internet_service_dsl  internet_service_fiber_optic  \\\n",
              "0                   0                     1                             0   \n",
              "1                   0                     1                             0   \n",
              "2                   0                     1                             0   \n",
              "3                   0                     1                             0   \n",
              "4                   0                     0                             1   \n",
              "\n",
              "   internet_service_no  online_security_no  \\\n",
              "0                    0                   1   \n",
              "1                    0                   0   \n",
              "2                    0                   0   \n",
              "3                    0                   0   \n",
              "4                    0                   1   \n",
              "\n",
              "   online_security_no_internet_service  online_security_yes  online_backup_no  \\\n",
              "0                                    0                    0                 0   \n",
              "1                                    0                    1                 1   \n",
              "2                                    0                    1                 0   \n",
              "3                                    0                    1                 1   \n",
              "4                                    0                    0                 1   \n",
              "\n",
              "   online_backup_no_internet_service  online_backup_yes  device_protection_no  \\\n",
              "0                                  0                  1                     1   \n",
              "1                                  0                  0                     0   \n",
              "2                                  0                  1                     1   \n",
              "3                                  0                  0                     0   \n",
              "4                                  0                  0                     1   \n",
              "\n",
              "   device_protection_no_internet_service  device_protection_yes  \\\n",
              "0                                      0                      0   \n",
              "1                                      0                      1   \n",
              "2                                      0                      0   \n",
              "3                                      0                      1   \n",
              "4                                      0                      0   \n",
              "\n",
              "   tech_support_no  tech_support_no_internet_service  tech_support_yes  \\\n",
              "0                1                                 0                 0   \n",
              "1                1                                 0                 0   \n",
              "2                1                                 0                 0   \n",
              "3                0                                 0                 1   \n",
              "4                1                                 0                 0   \n",
              "\n",
              "   streaming_tv_no  streaming_tv_no_internet_service  streaming_tv_yes  \\\n",
              "0                1                                 0                 0   \n",
              "1                1                                 0                 0   \n",
              "2                1                                 0                 0   \n",
              "3                1                                 0                 0   \n",
              "4                1                                 0                 0   \n",
              "\n",
              "   streaming_movies_no  streaming_movies_no_internet_service  \\\n",
              "0                    1                                     0   \n",
              "1                    1                                     0   \n",
              "2                    1                                     0   \n",
              "3                    1                                     0   \n",
              "4                    1                                     0   \n",
              "\n",
              "   streaming_movies_yes  bank_transfer  credit_card  electronic_check  \\\n",
              "0                     0              0            0                 1   \n",
              "1                     0              0            0                 0   \n",
              "2                     0              0            0                 0   \n",
              "3                     0              1            0                 0   \n",
              "4                     0              0            0                 1   \n",
              "\n",
              "   mailed_check  \n",
              "0             0  \n",
              "1             1  \n",
              "2             1  \n",
              "3             0  \n",
              "4             0  "
            ],
            "text/html": [
              "\n",
              "  <div id=\"df-c348ffca-e9cd-4e4d-b426-c0c8f9cab23d\">\n",
              "    <div class=\"colab-df-container\">\n",
              "      <div>\n",
              "<style scoped>\n",
              "    .dataframe tbody tr th:only-of-type {\n",
              "        vertical-align: middle;\n",
              "    }\n",
              "\n",
              "    .dataframe tbody tr th {\n",
              "        vertical-align: top;\n",
              "    }\n",
              "\n",
              "    .dataframe thead th {\n",
              "        text-align: right;\n",
              "    }\n",
              "</style>\n",
              "<table border=\"1\" class=\"dataframe\">\n",
              "  <thead>\n",
              "    <tr style=\"text-align: right;\">\n",
              "      <th></th>\n",
              "      <th>customerID</th>\n",
              "      <th>SeniorCitizen</th>\n",
              "      <th>tenure</th>\n",
              "      <th>Contract</th>\n",
              "      <th>MonthlyCharges</th>\n",
              "      <th>TotalCharges</th>\n",
              "      <th>Churn</th>\n",
              "      <th>gender_female</th>\n",
              "      <th>gender_male</th>\n",
              "      <th>partner_no</th>\n",
              "      <th>partner_yes</th>\n",
              "      <th>dependents_no</th>\n",
              "      <th>dependents_yes</th>\n",
              "      <th>phone_service_no</th>\n",
              "      <th>phone_service_yes</th>\n",
              "      <th>paperless_billing_no</th>\n",
              "      <th>paperless_billing_yes</th>\n",
              "      <th>multiple_lines_no</th>\n",
              "      <th>multiple_lines_no_phone_service</th>\n",
              "      <th>multiple_lines_yes</th>\n",
              "      <th>internet_service_dsl</th>\n",
              "      <th>internet_service_fiber_optic</th>\n",
              "      <th>internet_service_no</th>\n",
              "      <th>online_security_no</th>\n",
              "      <th>online_security_no_internet_service</th>\n",
              "      <th>online_security_yes</th>\n",
              "      <th>online_backup_no</th>\n",
              "      <th>online_backup_no_internet_service</th>\n",
              "      <th>online_backup_yes</th>\n",
              "      <th>device_protection_no</th>\n",
              "      <th>device_protection_no_internet_service</th>\n",
              "      <th>device_protection_yes</th>\n",
              "      <th>tech_support_no</th>\n",
              "      <th>tech_support_no_internet_service</th>\n",
              "      <th>tech_support_yes</th>\n",
              "      <th>streaming_tv_no</th>\n",
              "      <th>streaming_tv_no_internet_service</th>\n",
              "      <th>streaming_tv_yes</th>\n",
              "      <th>streaming_movies_no</th>\n",
              "      <th>streaming_movies_no_internet_service</th>\n",
              "      <th>streaming_movies_yes</th>\n",
              "      <th>bank_transfer</th>\n",
              "      <th>credit_card</th>\n",
              "      <th>electronic_check</th>\n",
              "      <th>mailed_check</th>\n",
              "    </tr>\n",
              "  </thead>\n",
              "  <tbody>\n",
              "    <tr>\n",
              "      <th>0</th>\n",
              "      <td>7590-VHVEG</td>\n",
              "      <td>0</td>\n",
              "      <td>1</td>\n",
              "      <td>0</td>\n",
              "      <td>29.85</td>\n",
              "      <td>29.85</td>\n",
              "      <td>0</td>\n",
              "      <td>1</td>\n",
              "      <td>0</td>\n",
              "      <td>0</td>\n",
              "      <td>1</td>\n",
              "      <td>1</td>\n",
              "      <td>0</td>\n",
              "      <td>1</td>\n",
              "      <td>0</td>\n",
              "      <td>0</td>\n",
              "      <td>1</td>\n",
              "      <td>0</td>\n",
              "      <td>1</td>\n",
              "      <td>0</td>\n",
              "      <td>1</td>\n",
              "      <td>0</td>\n",
              "      <td>0</td>\n",
              "      <td>1</td>\n",
              "      <td>0</td>\n",
              "      <td>0</td>\n",
              "      <td>0</td>\n",
              "      <td>0</td>\n",
              "      <td>1</td>\n",
              "      <td>1</td>\n",
              "      <td>0</td>\n",
              "      <td>0</td>\n",
              "      <td>1</td>\n",
              "      <td>0</td>\n",
              "      <td>0</td>\n",
              "      <td>1</td>\n",
              "      <td>0</td>\n",
              "      <td>0</td>\n",
              "      <td>1</td>\n",
              "      <td>0</td>\n",
              "      <td>0</td>\n",
              "      <td>0</td>\n",
              "      <td>0</td>\n",
              "      <td>1</td>\n",
              "      <td>0</td>\n",
              "    </tr>\n",
              "    <tr>\n",
              "      <th>1</th>\n",
              "      <td>5575-GNVDE</td>\n",
              "      <td>0</td>\n",
              "      <td>34</td>\n",
              "      <td>1</td>\n",
              "      <td>56.95</td>\n",
              "      <td>1889.50</td>\n",
              "      <td>0</td>\n",
              "      <td>0</td>\n",
              "      <td>1</td>\n",
              "      <td>1</td>\n",
              "      <td>0</td>\n",
              "      <td>1</td>\n",
              "      <td>0</td>\n",
              "      <td>0</td>\n",
              "      <td>1</td>\n",
              "      <td>1</td>\n",
              "      <td>0</td>\n",
              "      <td>1</td>\n",
              "      <td>0</td>\n",
              "      <td>0</td>\n",
              "      <td>1</td>\n",
              "      <td>0</td>\n",
              "      <td>0</td>\n",
              "      <td>0</td>\n",
              "      <td>0</td>\n",
              "      <td>1</td>\n",
              "      <td>1</td>\n",
              "      <td>0</td>\n",
              "      <td>0</td>\n",
              "      <td>0</td>\n",
              "      <td>0</td>\n",
              "      <td>1</td>\n",
              "      <td>1</td>\n",
              "      <td>0</td>\n",
              "      <td>0</td>\n",
              "      <td>1</td>\n",
              "      <td>0</td>\n",
              "      <td>0</td>\n",
              "      <td>1</td>\n",
              "      <td>0</td>\n",
              "      <td>0</td>\n",
              "      <td>0</td>\n",
              "      <td>0</td>\n",
              "      <td>0</td>\n",
              "      <td>1</td>\n",
              "    </tr>\n",
              "    <tr>\n",
              "      <th>2</th>\n",
              "      <td>3668-QPYBK</td>\n",
              "      <td>0</td>\n",
              "      <td>2</td>\n",
              "      <td>0</td>\n",
              "      <td>53.85</td>\n",
              "      <td>108.15</td>\n",
              "      <td>1</td>\n",
              "      <td>0</td>\n",
              "      <td>1</td>\n",
              "      <td>1</td>\n",
              "      <td>0</td>\n",
              "      <td>1</td>\n",
              "      <td>0</td>\n",
              "      <td>0</td>\n",
              "      <td>1</td>\n",
              "      <td>0</td>\n",
              "      <td>1</td>\n",
              "      <td>1</td>\n",
              "      <td>0</td>\n",
              "      <td>0</td>\n",
              "      <td>1</td>\n",
              "      <td>0</td>\n",
              "      <td>0</td>\n",
              "      <td>0</td>\n",
              "      <td>0</td>\n",
              "      <td>1</td>\n",
              "      <td>0</td>\n",
              "      <td>0</td>\n",
              "      <td>1</td>\n",
              "      <td>1</td>\n",
              "      <td>0</td>\n",
              "      <td>0</td>\n",
              "      <td>1</td>\n",
              "      <td>0</td>\n",
              "      <td>0</td>\n",
              "      <td>1</td>\n",
              "      <td>0</td>\n",
              "      <td>0</td>\n",
              "      <td>1</td>\n",
              "      <td>0</td>\n",
              "      <td>0</td>\n",
              "      <td>0</td>\n",
              "      <td>0</td>\n",
              "      <td>0</td>\n",
              "      <td>1</td>\n",
              "    </tr>\n",
              "    <tr>\n",
              "      <th>3</th>\n",
              "      <td>7795-CFOCW</td>\n",
              "      <td>0</td>\n",
              "      <td>45</td>\n",
              "      <td>1</td>\n",
              "      <td>42.30</td>\n",
              "      <td>1840.75</td>\n",
              "      <td>0</td>\n",
              "      <td>0</td>\n",
              "      <td>1</td>\n",
              "      <td>1</td>\n",
              "      <td>0</td>\n",
              "      <td>1</td>\n",
              "      <td>0</td>\n",
              "      <td>1</td>\n",
              "      <td>0</td>\n",
              "      <td>1</td>\n",
              "      <td>0</td>\n",
              "      <td>0</td>\n",
              "      <td>1</td>\n",
              "      <td>0</td>\n",
              "      <td>1</td>\n",
              "      <td>0</td>\n",
              "      <td>0</td>\n",
              "      <td>0</td>\n",
              "      <td>0</td>\n",
              "      <td>1</td>\n",
              "      <td>1</td>\n",
              "      <td>0</td>\n",
              "      <td>0</td>\n",
              "      <td>0</td>\n",
              "      <td>0</td>\n",
              "      <td>1</td>\n",
              "      <td>0</td>\n",
              "      <td>0</td>\n",
              "      <td>1</td>\n",
              "      <td>1</td>\n",
              "      <td>0</td>\n",
              "      <td>0</td>\n",
              "      <td>1</td>\n",
              "      <td>0</td>\n",
              "      <td>0</td>\n",
              "      <td>1</td>\n",
              "      <td>0</td>\n",
              "      <td>0</td>\n",
              "      <td>0</td>\n",
              "    </tr>\n",
              "    <tr>\n",
              "      <th>4</th>\n",
              "      <td>9237-HQITU</td>\n",
              "      <td>0</td>\n",
              "      <td>2</td>\n",
              "      <td>0</td>\n",
              "      <td>70.70</td>\n",
              "      <td>151.65</td>\n",
              "      <td>1</td>\n",
              "      <td>1</td>\n",
              "      <td>0</td>\n",
              "      <td>1</td>\n",
              "      <td>0</td>\n",
              "      <td>1</td>\n",
              "      <td>0</td>\n",
              "      <td>0</td>\n",
              "      <td>1</td>\n",
              "      <td>0</td>\n",
              "      <td>1</td>\n",
              "      <td>1</td>\n",
              "      <td>0</td>\n",
              "      <td>0</td>\n",
              "      <td>0</td>\n",
              "      <td>1</td>\n",
              "      <td>0</td>\n",
              "      <td>1</td>\n",
              "      <td>0</td>\n",
              "      <td>0</td>\n",
              "      <td>1</td>\n",
              "      <td>0</td>\n",
              "      <td>0</td>\n",
              "      <td>1</td>\n",
              "      <td>0</td>\n",
              "      <td>0</td>\n",
              "      <td>1</td>\n",
              "      <td>0</td>\n",
              "      <td>0</td>\n",
              "      <td>1</td>\n",
              "      <td>0</td>\n",
              "      <td>0</td>\n",
              "      <td>1</td>\n",
              "      <td>0</td>\n",
              "      <td>0</td>\n",
              "      <td>0</td>\n",
              "      <td>0</td>\n",
              "      <td>1</td>\n",
              "      <td>0</td>\n",
              "    </tr>\n",
              "  </tbody>\n",
              "</table>\n",
              "</div>\n",
              "      <button class=\"colab-df-convert\" onclick=\"convertToInteractive('df-c348ffca-e9cd-4e4d-b426-c0c8f9cab23d')\"\n",
              "              title=\"Convert this dataframe to an interactive table.\"\n",
              "              style=\"display:none;\">\n",
              "        \n",
              "  <svg xmlns=\"http://www.w3.org/2000/svg\" height=\"24px\"viewBox=\"0 0 24 24\"\n",
              "       width=\"24px\">\n",
              "    <path d=\"M0 0h24v24H0V0z\" fill=\"none\"/>\n",
              "    <path d=\"M18.56 5.44l.94 2.06.94-2.06 2.06-.94-2.06-.94-.94-2.06-.94 2.06-2.06.94zm-11 1L8.5 8.5l.94-2.06 2.06-.94-2.06-.94L8.5 2.5l-.94 2.06-2.06.94zm10 10l.94 2.06.94-2.06 2.06-.94-2.06-.94-.94-2.06-.94 2.06-2.06.94z\"/><path d=\"M17.41 7.96l-1.37-1.37c-.4-.4-.92-.59-1.43-.59-.52 0-1.04.2-1.43.59L10.3 9.45l-7.72 7.72c-.78.78-.78 2.05 0 2.83L4 21.41c.39.39.9.59 1.41.59.51 0 1.02-.2 1.41-.59l7.78-7.78 2.81-2.81c.8-.78.8-2.07 0-2.86zM5.41 20L4 18.59l7.72-7.72 1.47 1.35L5.41 20z\"/>\n",
              "  </svg>\n",
              "      </button>\n",
              "      \n",
              "  <style>\n",
              "    .colab-df-container {\n",
              "      display:flex;\n",
              "      flex-wrap:wrap;\n",
              "      gap: 12px;\n",
              "    }\n",
              "\n",
              "    .colab-df-convert {\n",
              "      background-color: #E8F0FE;\n",
              "      border: none;\n",
              "      border-radius: 50%;\n",
              "      cursor: pointer;\n",
              "      display: none;\n",
              "      fill: #1967D2;\n",
              "      height: 32px;\n",
              "      padding: 0 0 0 0;\n",
              "      width: 32px;\n",
              "    }\n",
              "\n",
              "    .colab-df-convert:hover {\n",
              "      background-color: #E2EBFA;\n",
              "      box-shadow: 0px 1px 2px rgba(60, 64, 67, 0.3), 0px 1px 3px 1px rgba(60, 64, 67, 0.15);\n",
              "      fill: #174EA6;\n",
              "    }\n",
              "\n",
              "    [theme=dark] .colab-df-convert {\n",
              "      background-color: #3B4455;\n",
              "      fill: #D2E3FC;\n",
              "    }\n",
              "\n",
              "    [theme=dark] .colab-df-convert:hover {\n",
              "      background-color: #434B5C;\n",
              "      box-shadow: 0px 1px 3px 1px rgba(0, 0, 0, 0.15);\n",
              "      filter: drop-shadow(0px 1px 2px rgba(0, 0, 0, 0.3));\n",
              "      fill: #FFFFFF;\n",
              "    }\n",
              "  </style>\n",
              "\n",
              "      <script>\n",
              "        const buttonEl =\n",
              "          document.querySelector('#df-c348ffca-e9cd-4e4d-b426-c0c8f9cab23d button.colab-df-convert');\n",
              "        buttonEl.style.display =\n",
              "          google.colab.kernel.accessAllowed ? 'block' : 'none';\n",
              "\n",
              "        async function convertToInteractive(key) {\n",
              "          const element = document.querySelector('#df-c348ffca-e9cd-4e4d-b426-c0c8f9cab23d');\n",
              "          const dataTable =\n",
              "            await google.colab.kernel.invokeFunction('convertToInteractive',\n",
              "                                                     [key], {});\n",
              "          if (!dataTable) return;\n",
              "\n",
              "          const docLinkHtml = 'Like what you see? Visit the ' +\n",
              "            '<a target=\"_blank\" href=https://colab.research.google.com/notebooks/data_table.ipynb>data table notebook</a>'\n",
              "            + ' to learn more about interactive tables.';\n",
              "          element.innerHTML = '';\n",
              "          dataTable['output_type'] = 'display_data';\n",
              "          await google.colab.output.renderOutput(dataTable, element);\n",
              "          const docLink = document.createElement('div');\n",
              "          docLink.innerHTML = docLinkHtml;\n",
              "          element.appendChild(docLink);\n",
              "        }\n",
              "      </script>\n",
              "    </div>\n",
              "  </div>\n",
              "  "
            ]
          },
          "metadata": {},
          "execution_count": 27
        }
      ]
    },
    {
      "cell_type": "markdown",
      "source": [
        "### Full HotEncoder"
      ],
      "metadata": {
        "id": "-e9ma2dK0MyV"
      }
    },
    {
      "cell_type": "code",
      "source": [
        "contract_hot_encoder = OneHotEncoder(sparse=False, dtype=int)"
      ],
      "metadata": {
        "id": "tR-q3RAn0epl"
      },
      "execution_count": 28,
      "outputs": []
    },
    {
      "cell_type": "code",
      "source": [
        "contract_hot_encoded = contract_hot_encoder.fit_transform(df_copy_full_hot[['Contract']])"
      ],
      "metadata": {
        "id": "tAlKxoPXSjz3"
      },
      "execution_count": 29,
      "outputs": []
    },
    {
      "cell_type": "code",
      "source": [
        "contract_hot_encoder.get_feature_names_out()"
      ],
      "metadata": {
        "colab": {
          "base_uri": "https://localhost:8080/"
        },
        "id": "conq3Ij1TOeG",
        "outputId": "e16db79d-18ab-44c0-97d9-42dd6e74962f"
      },
      "execution_count": 30,
      "outputs": [
        {
          "output_type": "execute_result",
          "data": {
            "text/plain": [
              "array(['Contract_Month-to-month', 'Contract_One year',\n",
              "       'Contract_Two year'], dtype=object)"
            ]
          },
          "metadata": {},
          "execution_count": 30
        }
      ]
    },
    {
      "cell_type": "code",
      "source": [
        "df_copy_full_hot.drop(columns=['Contract'], inplace=True)\n",
        "\n",
        "df_copy_full_hot[['contract_month-to-month', 'contract_one_year',\n",
        "       'contract_two_year']] = contract_hot_encoded"
      ],
      "metadata": {
        "id": "17lSMqapTP5e"
      },
      "execution_count": 31,
      "outputs": []
    },
    {
      "cell_type": "code",
      "source": [
        "df_copy_full_hot.head()"
      ],
      "metadata": {
        "colab": {
          "base_uri": "https://localhost:8080/",
          "height": 357
        },
        "id": "ncC3Rp5y5khd",
        "outputId": "a61f2f39-4ceb-4b92-bc1e-2a90df8c313d"
      },
      "execution_count": 32,
      "outputs": [
        {
          "output_type": "execute_result",
          "data": {
            "text/plain": [
              "   customerID  SeniorCitizen  tenure  MonthlyCharges  TotalCharges  Churn  \\\n",
              "0  7590-VHVEG              0       1           29.85         29.85      0   \n",
              "1  5575-GNVDE              0      34           56.95       1889.50      0   \n",
              "2  3668-QPYBK              0       2           53.85        108.15      1   \n",
              "3  7795-CFOCW              0      45           42.30       1840.75      0   \n",
              "4  9237-HQITU              0       2           70.70        151.65      1   \n",
              "\n",
              "   gender_female  gender_male  partner_no  partner_yes  dependents_no  \\\n",
              "0              1            0           0            1              1   \n",
              "1              0            1           1            0              1   \n",
              "2              0            1           1            0              1   \n",
              "3              0            1           1            0              1   \n",
              "4              1            0           1            0              1   \n",
              "\n",
              "   dependents_yes  phone_service_no  phone_service_yes  paperless_billing_no  \\\n",
              "0               0                 1                  0                     0   \n",
              "1               0                 0                  1                     1   \n",
              "2               0                 0                  1                     0   \n",
              "3               0                 1                  0                     1   \n",
              "4               0                 0                  1                     0   \n",
              "\n",
              "   paperless_billing_yes  multiple_lines_no  multiple_lines_no_phone_service  \\\n",
              "0                      1                  0                                1   \n",
              "1                      0                  1                                0   \n",
              "2                      1                  1                                0   \n",
              "3                      0                  0                                1   \n",
              "4                      1                  1                                0   \n",
              "\n",
              "   multiple_lines_yes  internet_service_dsl  internet_service_fiber_optic  \\\n",
              "0                   0                     1                             0   \n",
              "1                   0                     1                             0   \n",
              "2                   0                     1                             0   \n",
              "3                   0                     1                             0   \n",
              "4                   0                     0                             1   \n",
              "\n",
              "   internet_service_no  online_security_no  \\\n",
              "0                    0                   1   \n",
              "1                    0                   0   \n",
              "2                    0                   0   \n",
              "3                    0                   0   \n",
              "4                    0                   1   \n",
              "\n",
              "   online_security_no_internet_service  online_security_yes  online_backup_no  \\\n",
              "0                                    0                    0                 0   \n",
              "1                                    0                    1                 1   \n",
              "2                                    0                    1                 0   \n",
              "3                                    0                    1                 1   \n",
              "4                                    0                    0                 1   \n",
              "\n",
              "   online_backup_no_internet_service  online_backup_yes  device_protection_no  \\\n",
              "0                                  0                  1                     1   \n",
              "1                                  0                  0                     0   \n",
              "2                                  0                  1                     1   \n",
              "3                                  0                  0                     0   \n",
              "4                                  0                  0                     1   \n",
              "\n",
              "   device_protection_no_internet_service  device_protection_yes  \\\n",
              "0                                      0                      0   \n",
              "1                                      0                      1   \n",
              "2                                      0                      0   \n",
              "3                                      0                      1   \n",
              "4                                      0                      0   \n",
              "\n",
              "   tech_support_no  tech_support_no_internet_service  tech_support_yes  \\\n",
              "0                1                                 0                 0   \n",
              "1                1                                 0                 0   \n",
              "2                1                                 0                 0   \n",
              "3                0                                 0                 1   \n",
              "4                1                                 0                 0   \n",
              "\n",
              "   streaming_tv_no  streaming_tv_no_internet_service  streaming_tv_yes  \\\n",
              "0                1                                 0                 0   \n",
              "1                1                                 0                 0   \n",
              "2                1                                 0                 0   \n",
              "3                1                                 0                 0   \n",
              "4                1                                 0                 0   \n",
              "\n",
              "   streaming_movies_no  streaming_movies_no_internet_service  \\\n",
              "0                    1                                     0   \n",
              "1                    1                                     0   \n",
              "2                    1                                     0   \n",
              "3                    1                                     0   \n",
              "4                    1                                     0   \n",
              "\n",
              "   streaming_movies_yes  bank_transfer  credit_card  electronic_check  \\\n",
              "0                     0              0            0                 1   \n",
              "1                     0              0            0                 0   \n",
              "2                     0              0            0                 0   \n",
              "3                     0              1            0                 0   \n",
              "4                     0              0            0                 1   \n",
              "\n",
              "   mailed_check  contract_month-to-month  contract_one_year  contract_two_year  \n",
              "0             0                        1                  0                  0  \n",
              "1             1                        0                  1                  0  \n",
              "2             1                        1                  0                  0  \n",
              "3             0                        0                  1                  0  \n",
              "4             0                        1                  0                  0  "
            ],
            "text/html": [
              "\n",
              "  <div id=\"df-69a75218-e9d7-4a2b-9627-c742a5ff2445\">\n",
              "    <div class=\"colab-df-container\">\n",
              "      <div>\n",
              "<style scoped>\n",
              "    .dataframe tbody tr th:only-of-type {\n",
              "        vertical-align: middle;\n",
              "    }\n",
              "\n",
              "    .dataframe tbody tr th {\n",
              "        vertical-align: top;\n",
              "    }\n",
              "\n",
              "    .dataframe thead th {\n",
              "        text-align: right;\n",
              "    }\n",
              "</style>\n",
              "<table border=\"1\" class=\"dataframe\">\n",
              "  <thead>\n",
              "    <tr style=\"text-align: right;\">\n",
              "      <th></th>\n",
              "      <th>customerID</th>\n",
              "      <th>SeniorCitizen</th>\n",
              "      <th>tenure</th>\n",
              "      <th>MonthlyCharges</th>\n",
              "      <th>TotalCharges</th>\n",
              "      <th>Churn</th>\n",
              "      <th>gender_female</th>\n",
              "      <th>gender_male</th>\n",
              "      <th>partner_no</th>\n",
              "      <th>partner_yes</th>\n",
              "      <th>dependents_no</th>\n",
              "      <th>dependents_yes</th>\n",
              "      <th>phone_service_no</th>\n",
              "      <th>phone_service_yes</th>\n",
              "      <th>paperless_billing_no</th>\n",
              "      <th>paperless_billing_yes</th>\n",
              "      <th>multiple_lines_no</th>\n",
              "      <th>multiple_lines_no_phone_service</th>\n",
              "      <th>multiple_lines_yes</th>\n",
              "      <th>internet_service_dsl</th>\n",
              "      <th>internet_service_fiber_optic</th>\n",
              "      <th>internet_service_no</th>\n",
              "      <th>online_security_no</th>\n",
              "      <th>online_security_no_internet_service</th>\n",
              "      <th>online_security_yes</th>\n",
              "      <th>online_backup_no</th>\n",
              "      <th>online_backup_no_internet_service</th>\n",
              "      <th>online_backup_yes</th>\n",
              "      <th>device_protection_no</th>\n",
              "      <th>device_protection_no_internet_service</th>\n",
              "      <th>device_protection_yes</th>\n",
              "      <th>tech_support_no</th>\n",
              "      <th>tech_support_no_internet_service</th>\n",
              "      <th>tech_support_yes</th>\n",
              "      <th>streaming_tv_no</th>\n",
              "      <th>streaming_tv_no_internet_service</th>\n",
              "      <th>streaming_tv_yes</th>\n",
              "      <th>streaming_movies_no</th>\n",
              "      <th>streaming_movies_no_internet_service</th>\n",
              "      <th>streaming_movies_yes</th>\n",
              "      <th>bank_transfer</th>\n",
              "      <th>credit_card</th>\n",
              "      <th>electronic_check</th>\n",
              "      <th>mailed_check</th>\n",
              "      <th>contract_month-to-month</th>\n",
              "      <th>contract_one_year</th>\n",
              "      <th>contract_two_year</th>\n",
              "    </tr>\n",
              "  </thead>\n",
              "  <tbody>\n",
              "    <tr>\n",
              "      <th>0</th>\n",
              "      <td>7590-VHVEG</td>\n",
              "      <td>0</td>\n",
              "      <td>1</td>\n",
              "      <td>29.85</td>\n",
              "      <td>29.85</td>\n",
              "      <td>0</td>\n",
              "      <td>1</td>\n",
              "      <td>0</td>\n",
              "      <td>0</td>\n",
              "      <td>1</td>\n",
              "      <td>1</td>\n",
              "      <td>0</td>\n",
              "      <td>1</td>\n",
              "      <td>0</td>\n",
              "      <td>0</td>\n",
              "      <td>1</td>\n",
              "      <td>0</td>\n",
              "      <td>1</td>\n",
              "      <td>0</td>\n",
              "      <td>1</td>\n",
              "      <td>0</td>\n",
              "      <td>0</td>\n",
              "      <td>1</td>\n",
              "      <td>0</td>\n",
              "      <td>0</td>\n",
              "      <td>0</td>\n",
              "      <td>0</td>\n",
              "      <td>1</td>\n",
              "      <td>1</td>\n",
              "      <td>0</td>\n",
              "      <td>0</td>\n",
              "      <td>1</td>\n",
              "      <td>0</td>\n",
              "      <td>0</td>\n",
              "      <td>1</td>\n",
              "      <td>0</td>\n",
              "      <td>0</td>\n",
              "      <td>1</td>\n",
              "      <td>0</td>\n",
              "      <td>0</td>\n",
              "      <td>0</td>\n",
              "      <td>0</td>\n",
              "      <td>1</td>\n",
              "      <td>0</td>\n",
              "      <td>1</td>\n",
              "      <td>0</td>\n",
              "      <td>0</td>\n",
              "    </tr>\n",
              "    <tr>\n",
              "      <th>1</th>\n",
              "      <td>5575-GNVDE</td>\n",
              "      <td>0</td>\n",
              "      <td>34</td>\n",
              "      <td>56.95</td>\n",
              "      <td>1889.50</td>\n",
              "      <td>0</td>\n",
              "      <td>0</td>\n",
              "      <td>1</td>\n",
              "      <td>1</td>\n",
              "      <td>0</td>\n",
              "      <td>1</td>\n",
              "      <td>0</td>\n",
              "      <td>0</td>\n",
              "      <td>1</td>\n",
              "      <td>1</td>\n",
              "      <td>0</td>\n",
              "      <td>1</td>\n",
              "      <td>0</td>\n",
              "      <td>0</td>\n",
              "      <td>1</td>\n",
              "      <td>0</td>\n",
              "      <td>0</td>\n",
              "      <td>0</td>\n",
              "      <td>0</td>\n",
              "      <td>1</td>\n",
              "      <td>1</td>\n",
              "      <td>0</td>\n",
              "      <td>0</td>\n",
              "      <td>0</td>\n",
              "      <td>0</td>\n",
              "      <td>1</td>\n",
              "      <td>1</td>\n",
              "      <td>0</td>\n",
              "      <td>0</td>\n",
              "      <td>1</td>\n",
              "      <td>0</td>\n",
              "      <td>0</td>\n",
              "      <td>1</td>\n",
              "      <td>0</td>\n",
              "      <td>0</td>\n",
              "      <td>0</td>\n",
              "      <td>0</td>\n",
              "      <td>0</td>\n",
              "      <td>1</td>\n",
              "      <td>0</td>\n",
              "      <td>1</td>\n",
              "      <td>0</td>\n",
              "    </tr>\n",
              "    <tr>\n",
              "      <th>2</th>\n",
              "      <td>3668-QPYBK</td>\n",
              "      <td>0</td>\n",
              "      <td>2</td>\n",
              "      <td>53.85</td>\n",
              "      <td>108.15</td>\n",
              "      <td>1</td>\n",
              "      <td>0</td>\n",
              "      <td>1</td>\n",
              "      <td>1</td>\n",
              "      <td>0</td>\n",
              "      <td>1</td>\n",
              "      <td>0</td>\n",
              "      <td>0</td>\n",
              "      <td>1</td>\n",
              "      <td>0</td>\n",
              "      <td>1</td>\n",
              "      <td>1</td>\n",
              "      <td>0</td>\n",
              "      <td>0</td>\n",
              "      <td>1</td>\n",
              "      <td>0</td>\n",
              "      <td>0</td>\n",
              "      <td>0</td>\n",
              "      <td>0</td>\n",
              "      <td>1</td>\n",
              "      <td>0</td>\n",
              "      <td>0</td>\n",
              "      <td>1</td>\n",
              "      <td>1</td>\n",
              "      <td>0</td>\n",
              "      <td>0</td>\n",
              "      <td>1</td>\n",
              "      <td>0</td>\n",
              "      <td>0</td>\n",
              "      <td>1</td>\n",
              "      <td>0</td>\n",
              "      <td>0</td>\n",
              "      <td>1</td>\n",
              "      <td>0</td>\n",
              "      <td>0</td>\n",
              "      <td>0</td>\n",
              "      <td>0</td>\n",
              "      <td>0</td>\n",
              "      <td>1</td>\n",
              "      <td>1</td>\n",
              "      <td>0</td>\n",
              "      <td>0</td>\n",
              "    </tr>\n",
              "    <tr>\n",
              "      <th>3</th>\n",
              "      <td>7795-CFOCW</td>\n",
              "      <td>0</td>\n",
              "      <td>45</td>\n",
              "      <td>42.30</td>\n",
              "      <td>1840.75</td>\n",
              "      <td>0</td>\n",
              "      <td>0</td>\n",
              "      <td>1</td>\n",
              "      <td>1</td>\n",
              "      <td>0</td>\n",
              "      <td>1</td>\n",
              "      <td>0</td>\n",
              "      <td>1</td>\n",
              "      <td>0</td>\n",
              "      <td>1</td>\n",
              "      <td>0</td>\n",
              "      <td>0</td>\n",
              "      <td>1</td>\n",
              "      <td>0</td>\n",
              "      <td>1</td>\n",
              "      <td>0</td>\n",
              "      <td>0</td>\n",
              "      <td>0</td>\n",
              "      <td>0</td>\n",
              "      <td>1</td>\n",
              "      <td>1</td>\n",
              "      <td>0</td>\n",
              "      <td>0</td>\n",
              "      <td>0</td>\n",
              "      <td>0</td>\n",
              "      <td>1</td>\n",
              "      <td>0</td>\n",
              "      <td>0</td>\n",
              "      <td>1</td>\n",
              "      <td>1</td>\n",
              "      <td>0</td>\n",
              "      <td>0</td>\n",
              "      <td>1</td>\n",
              "      <td>0</td>\n",
              "      <td>0</td>\n",
              "      <td>1</td>\n",
              "      <td>0</td>\n",
              "      <td>0</td>\n",
              "      <td>0</td>\n",
              "      <td>0</td>\n",
              "      <td>1</td>\n",
              "      <td>0</td>\n",
              "    </tr>\n",
              "    <tr>\n",
              "      <th>4</th>\n",
              "      <td>9237-HQITU</td>\n",
              "      <td>0</td>\n",
              "      <td>2</td>\n",
              "      <td>70.70</td>\n",
              "      <td>151.65</td>\n",
              "      <td>1</td>\n",
              "      <td>1</td>\n",
              "      <td>0</td>\n",
              "      <td>1</td>\n",
              "      <td>0</td>\n",
              "      <td>1</td>\n",
              "      <td>0</td>\n",
              "      <td>0</td>\n",
              "      <td>1</td>\n",
              "      <td>0</td>\n",
              "      <td>1</td>\n",
              "      <td>1</td>\n",
              "      <td>0</td>\n",
              "      <td>0</td>\n",
              "      <td>0</td>\n",
              "      <td>1</td>\n",
              "      <td>0</td>\n",
              "      <td>1</td>\n",
              "      <td>0</td>\n",
              "      <td>0</td>\n",
              "      <td>1</td>\n",
              "      <td>0</td>\n",
              "      <td>0</td>\n",
              "      <td>1</td>\n",
              "      <td>0</td>\n",
              "      <td>0</td>\n",
              "      <td>1</td>\n",
              "      <td>0</td>\n",
              "      <td>0</td>\n",
              "      <td>1</td>\n",
              "      <td>0</td>\n",
              "      <td>0</td>\n",
              "      <td>1</td>\n",
              "      <td>0</td>\n",
              "      <td>0</td>\n",
              "      <td>0</td>\n",
              "      <td>0</td>\n",
              "      <td>1</td>\n",
              "      <td>0</td>\n",
              "      <td>1</td>\n",
              "      <td>0</td>\n",
              "      <td>0</td>\n",
              "    </tr>\n",
              "  </tbody>\n",
              "</table>\n",
              "</div>\n",
              "      <button class=\"colab-df-convert\" onclick=\"convertToInteractive('df-69a75218-e9d7-4a2b-9627-c742a5ff2445')\"\n",
              "              title=\"Convert this dataframe to an interactive table.\"\n",
              "              style=\"display:none;\">\n",
              "        \n",
              "  <svg xmlns=\"http://www.w3.org/2000/svg\" height=\"24px\"viewBox=\"0 0 24 24\"\n",
              "       width=\"24px\">\n",
              "    <path d=\"M0 0h24v24H0V0z\" fill=\"none\"/>\n",
              "    <path d=\"M18.56 5.44l.94 2.06.94-2.06 2.06-.94-2.06-.94-.94-2.06-.94 2.06-2.06.94zm-11 1L8.5 8.5l.94-2.06 2.06-.94-2.06-.94L8.5 2.5l-.94 2.06-2.06.94zm10 10l.94 2.06.94-2.06 2.06-.94-2.06-.94-.94-2.06-.94 2.06-2.06.94z\"/><path d=\"M17.41 7.96l-1.37-1.37c-.4-.4-.92-.59-1.43-.59-.52 0-1.04.2-1.43.59L10.3 9.45l-7.72 7.72c-.78.78-.78 2.05 0 2.83L4 21.41c.39.39.9.59 1.41.59.51 0 1.02-.2 1.41-.59l7.78-7.78 2.81-2.81c.8-.78.8-2.07 0-2.86zM5.41 20L4 18.59l7.72-7.72 1.47 1.35L5.41 20z\"/>\n",
              "  </svg>\n",
              "      </button>\n",
              "      \n",
              "  <style>\n",
              "    .colab-df-container {\n",
              "      display:flex;\n",
              "      flex-wrap:wrap;\n",
              "      gap: 12px;\n",
              "    }\n",
              "\n",
              "    .colab-df-convert {\n",
              "      background-color: #E8F0FE;\n",
              "      border: none;\n",
              "      border-radius: 50%;\n",
              "      cursor: pointer;\n",
              "      display: none;\n",
              "      fill: #1967D2;\n",
              "      height: 32px;\n",
              "      padding: 0 0 0 0;\n",
              "      width: 32px;\n",
              "    }\n",
              "\n",
              "    .colab-df-convert:hover {\n",
              "      background-color: #E2EBFA;\n",
              "      box-shadow: 0px 1px 2px rgba(60, 64, 67, 0.3), 0px 1px 3px 1px rgba(60, 64, 67, 0.15);\n",
              "      fill: #174EA6;\n",
              "    }\n",
              "\n",
              "    [theme=dark] .colab-df-convert {\n",
              "      background-color: #3B4455;\n",
              "      fill: #D2E3FC;\n",
              "    }\n",
              "\n",
              "    [theme=dark] .colab-df-convert:hover {\n",
              "      background-color: #434B5C;\n",
              "      box-shadow: 0px 1px 3px 1px rgba(0, 0, 0, 0.15);\n",
              "      filter: drop-shadow(0px 1px 2px rgba(0, 0, 0, 0.3));\n",
              "      fill: #FFFFFF;\n",
              "    }\n",
              "  </style>\n",
              "\n",
              "      <script>\n",
              "        const buttonEl =\n",
              "          document.querySelector('#df-69a75218-e9d7-4a2b-9627-c742a5ff2445 button.colab-df-convert');\n",
              "        buttonEl.style.display =\n",
              "          google.colab.kernel.accessAllowed ? 'block' : 'none';\n",
              "\n",
              "        async function convertToInteractive(key) {\n",
              "          const element = document.querySelector('#df-69a75218-e9d7-4a2b-9627-c742a5ff2445');\n",
              "          const dataTable =\n",
              "            await google.colab.kernel.invokeFunction('convertToInteractive',\n",
              "                                                     [key], {});\n",
              "          if (!dataTable) return;\n",
              "\n",
              "          const docLinkHtml = 'Like what you see? Visit the ' +\n",
              "            '<a target=\"_blank\" href=https://colab.research.google.com/notebooks/data_table.ipynb>data table notebook</a>'\n",
              "            + ' to learn more about interactive tables.';\n",
              "          element.innerHTML = '';\n",
              "          dataTable['output_type'] = 'display_data';\n",
              "          await google.colab.output.renderOutput(dataTable, element);\n",
              "          const docLink = document.createElement('div');\n",
              "          docLink.innerHTML = docLinkHtml;\n",
              "          element.appendChild(docLink);\n",
              "        }\n",
              "      </script>\n",
              "    </div>\n",
              "  </div>\n",
              "  "
            ]
          },
          "metadata": {},
          "execution_count": 32
        }
      ]
    },
    {
      "cell_type": "markdown",
      "source": [
        "## Split dos dados de treino e teste "
      ],
      "metadata": {
        "id": "y2yxVjkgJctt"
      }
    },
    {
      "cell_type": "markdown",
      "source": [
        "Como propopsto anteriormente, iremos criar dois datasets, um com todas as colunas categoricas com a transformação `OneHotEndoder` e a outra com a utilização do `LabelEncoder` para o atributo `Contract`."
      ],
      "metadata": {
        "id": "FFcTq3uBiRth"
      }
    },
    {
      "cell_type": "code",
      "source": [
        "from sklearn.model_selection import train_test_split"
      ],
      "metadata": {
        "id": "Rz3W0IAQfyzt"
      },
      "execution_count": 33,
      "outputs": []
    },
    {
      "cell_type": "code",
      "source": [
        "# removendo coluna id\n",
        "df_copy_full_hot.drop(columns=['customerID'], inplace=True)\n",
        "df_copy_label_hot.drop(columns=['customerID'], inplace=True)"
      ],
      "metadata": {
        "id": "XbyQeoXJJ4Gc"
      },
      "execution_count": 34,
      "outputs": []
    },
    {
      "cell_type": "code",
      "source": [
        "y_full_hot = df_copy_full_hot['Churn']\n",
        "X_full_hot = df_copy_full_hot.drop('Churn', axis=1)\n",
        "\n",
        "y_label_hot = df_copy_label_hot['Churn']\n",
        "X_label_hot = df_copy_label_hot.drop('Churn', axis=1)"
      ],
      "metadata": {
        "id": "LSPIe6HbKIu0"
      },
      "execution_count": 35,
      "outputs": []
    },
    {
      "cell_type": "code",
      "source": [
        "X_train_full_hot, X_test_full_hot, y_train_full_hot, y_test_full_hot = train_test_split(X_full_hot, y_full_hot, test_size=0.3, random_state=0, stratify=y_full_hot)\n",
        "\n",
        "X_train_label_hot, X_test_label_hot, y_train_label_hot, y_test_label_hot = train_test_split(X_label_hot, y_label_hot, test_size=0.3, random_state=0, stratify=y_label_hot)"
      ],
      "metadata": {
        "id": "EpD8QgOvJlb0"
      },
      "execution_count": 36,
      "outputs": []
    },
    {
      "cell_type": "markdown",
      "source": [
        "## Pipeline"
      ],
      "metadata": {
        "id": "XqYC6gC77WBd"
      }
    },
    {
      "cell_type": "markdown",
      "source": [
        "Um pipeline de aprendizado de máquina pode ser criado reunindo uma sequência de etapas envolvidas no treinamento de um modelo de aprendizado de máquina. Ele pode ser usado para automatizar um fluxo de trabalho de aprendizado de máquina. O pipeline pode envolver pré-processamento, seleção de recursos, classificação/regressão e pós-processamento.\n",
        "\n",
        "* https://scikit-learn.org/stable/auto_examples/compose/plot_column_transformer_mixed_types.html"
      ],
      "metadata": {
        "id": "LaPrhTZ67ohE"
      }
    },
    {
      "cell_type": "code",
      "source": [
        "from sklearn import set_config\n",
        "from sklearn.pipeline import make_pipeline\n",
        "from imblearn.pipeline import make_pipeline as make_pipeline_imblearn\n",
        "from sklearn.pipeline import Pipeline\n",
        "from imblearn.pipeline import Pipeline as pipeline_imblearn\n",
        "from sklearn.compose import ColumnTransformer\n",
        "from sklearn.preprocessing import StandardScaler\n",
        "from sklearn.preprocessing import Normalizer\n",
        "from sklearn.preprocessing import QuantileTransformer\n",
        "from imblearn.over_sampling import SMOTE\n",
        "from imblearn.under_sampling import RandomUnderSampler"
      ],
      "metadata": {
        "id": "-jgwDhcM-Ki1"
      },
      "execution_count": 37,
      "outputs": []
    },
    {
      "cell_type": "code",
      "source": [
        "numeric_features_pipeline = [\"tenure\", \"MonthlyCharges\", \"TotalCharges\"]\n",
        "\n",
        "transformer_standard_pipeline = make_pipeline(StandardScaler())\n",
        "transformer_normalizer_pipeline = make_pipeline(Normalizer())\n",
        "transformer_quantile_pipeline = make_pipeline(QuantileTransformer())\n",
        "\n",
        "preprocessor_standard = ColumnTransformer(transformers=[(\"numeric\", transformer_standard_pipeline, numeric_features_pipeline)], remainder='passthrough')\n",
        "preprocessor_normalizer = ColumnTransformer(transformers=[(\"numeric\", transformer_normalizer_pipeline, numeric_features_pipeline)], remainder='passthrough')\n",
        "preprocessor_quantile = ColumnTransformer(transformers=[(\"numeric\", transformer_quantile_pipeline, numeric_features_pipeline)], remainder='passthrough')\n",
        "\n",
        "pipeline_standard_smote = make_pipeline_imblearn(preprocessor_standard, SMOTE())\n",
        "pipeline_normalizer_smote = make_pipeline_imblearn(preprocessor_normalizer, SMOTE())\n",
        "pipeline_quantile_smote = make_pipeline_imblearn(preprocessor_quantile, SMOTE())\n",
        "\n",
        "pipeline_standard_under = make_pipeline(preprocessor_standard, RandomUnderSampler())\n",
        "pipeline_normalizer_under = make_pipeline(preprocessor_normalizer, RandomUnderSampler())\n",
        "pipeline_quantile_under = make_pipeline(preprocessor_quantile, RandomUnderSampler())\n",
        "\n",
        "#final_pipeline_standard_LogisticRegression = make_pipeline(preprocessor_standard, LogisticRegression())"
      ],
      "metadata": {
        "id": "o8KQTdQICVvW"
      },
      "execution_count": 38,
      "outputs": []
    },
    {
      "cell_type": "markdown",
      "source": [
        "Em nosso caso inicial usaremos **Pipelines**, para o dataset *full one hot encoded* e para o dataset de *label encoded + hot encoded*, com as configurações de padronização/normalização do tipo `StandardScaler`, `Normalizer` e `QuantileTransformer`. Tambem para cada uma deles usaremos dois tipos de balanceamnetos: `SMOTE` e `RandomUnderSampler`."
      ],
      "metadata": {
        "id": "TNHNCu-YIeq8"
      }
    },
    {
      "cell_type": "code",
      "source": [
        "# visualização da pipeline\n",
        "#set_config(display=\"diagram\")\n",
        "#pipeline_standard_under"
      ],
      "metadata": {
        "id": "JittKo7EEiHE"
      },
      "execution_count": 39,
      "outputs": []
    },
    {
      "cell_type": "markdown",
      "source": [
        "## CONSTRUÇÃO DE MODELO(S) DE MACHINE LEARNING"
      ],
      "metadata": {
        "id": "WGUYvfA1MmGM"
      }
    },
    {
      "cell_type": "markdown",
      "source": [
        "Inicialmente usaremos a tecnica de validação cruzada (**cross-validation**) nos conjuntos de treino a fim de encontrar os melhores algoritmos."
      ],
      "metadata": {
        "id": "VUYc1nxauIy7"
      }
    },
    {
      "cell_type": "markdown",
      "source": [
        "A validação cruzada é uma técnica para avaliar como a análise estatística se generaliza para um conjunto de dados independente. É uma técnica para avaliar modelos de aprendizado de máquina treinando vários modelos em subconjuntos dos dados de entrada disponíveis e avaliando-os no subconjunto complementar dos dados. Usando validação cruzada, há grandes chances de que possamos detectar o ajuste excessivo com facilidade."
      ],
      "metadata": {
        "id": "bI_Fo01m8_lJ"
      }
    },
    {
      "cell_type": "code",
      "source": [
        "from sklearn.model_selection import GridSearchCV\n",
        "from sklearn.model_selection import StratifiedKFold\n",
        "from sklearn.linear_model import LogisticRegression\n",
        "from sklearn.linear_model import SGDClassifier\n",
        "from xgboost import XGBClassifier\n",
        "from sklearn.model_selection import cross_val_score"
      ],
      "metadata": {
        "id": "7wNTWmnbfg9l"
      },
      "execution_count": 40,
      "outputs": []
    },
    {
      "cell_type": "code",
      "source": [
        "models = [LogisticRegression(), SGDClassifier(), XGBClassifier()]\n",
        "balances = [SMOTE(), RandomUnderSampler()]\n",
        "normalizations = [preprocessor_standard, preprocessor_normalizer, preprocessor_quantile]\n",
        "\n",
        "dic = {'Tipo': [], 'Modelo': [], 'Balanceamento':[], 'Dimensionamento': [], 'Recall': []}"
      ],
      "metadata": {
        "id": "_UhjZ8vMMv0_"
      },
      "execution_count": null,
      "outputs": []
    },
    {
      "cell_type": "code",
      "source": [
        "preprocessor_standard._transformers[0][1].steps[0][0]"
      ],
      "metadata": {
        "colab": {
          "base_uri": "https://localhost:8080/",
          "height": 35
        },
        "id": "jyO62zZdPoxv",
        "outputId": "fbb56d3e-d2f5-485f-bb73-f5a7aae81b5b"
      },
      "execution_count": null,
      "outputs": [
        {
          "output_type": "execute_result",
          "data": {
            "text/plain": [
              "'standardscaler'"
            ],
            "application/vnd.google.colaboratory.intrinsic+json": {
              "type": "string"
            }
          },
          "metadata": {},
          "execution_count": 47
        }
      ]
    },
    {
      "cell_type": "code",
      "source": [
        "pipeline_standard_under.steps[1][0]"
      ],
      "metadata": {
        "colab": {
          "base_uri": "https://localhost:8080/",
          "height": 35
        },
        "id": "GHn02TXETcL4",
        "outputId": "174cc1d4-0115-4d20-b090-59b724651de2"
      },
      "execution_count": null,
      "outputs": [
        {
          "output_type": "execute_result",
          "data": {
            "text/plain": [
              "'randomundersampler'"
            ],
            "application/vnd.google.colaboratory.intrinsic+json": {
              "type": "string"
            }
          },
          "metadata": {},
          "execution_count": 48
        }
      ]
    },
    {
      "cell_type": "code",
      "source": [
        "# cross-validation\n",
        "for tipo in ( ('Full_Hot', (X_train_full_hot, y_train_full_hot)), ('Label_Hot',(X_train_label_hot, y_train_label_hot)) ):\n",
        "  for model in models:\n",
        "    for balance in balances:\n",
        "      for norm in normalizations:\n",
        "        dic['Tipo'].append(tipo[0])\n",
        "        dic['Modelo'].append(model)\n",
        "        dic['Balanceamento'].append(balance)\n",
        "        dic['Dimensionamento'].append(norm._transformers[0][1].steps[0][0])\n",
        "        \n",
        "        final_pipeline = pipeline_imblearn([('balance', balance), ('normalizations', norm), ('modelo', model)])\n",
        "        resultado = cross_val_score(final_pipeline, tipo[1][0], tipo[1][1], cv=StratifiedKFold(), scoring='recall')\n",
        "        dic['Recall'].append(resultado.mean().round(4))"
      ],
      "metadata": {
        "id": "gwQ5had3KSon"
      },
      "execution_count": null,
      "outputs": []
    },
    {
      "cell_type": "code",
      "source": [
        "dataframe_dic = pd.DataFrame(data=dic)"
      ],
      "metadata": {
        "id": "YsjFKLVnRYpA"
      },
      "execution_count": null,
      "outputs": []
    },
    {
      "cell_type": "markdown",
      "source": [
        "Utilizaremos a metrica de `recall`, normalmente usada em situações em que os Falsos Negativos são considerados mais prejudiciais que os Falsos Positivos. Essa metrica irá nos mostrar a razão entre a quantidade de clientes que o modelo previu o cancelamento, e a quantidade de clientes que realmente cancelaram o serviço. Ou seja, mostra a proporção de positivos encontrados corretamente."
      ],
      "metadata": {
        "id": "MDrVWlwK9KjJ"
      }
    },
    {
      "cell_type": "code",
      "source": [
        "dataframe_dic.sort_values(by='Recall', ascending=False).head(6)"
      ],
      "metadata": {
        "colab": {
          "base_uri": "https://localhost:8080/",
          "height": 238
        },
        "id": "6sVdh-YhRgm4",
        "outputId": "c9c3375c-5945-4cd7-b020-1f18d23210b3"
      },
      "execution_count": null,
      "outputs": [
        {
          "output_type": "execute_result",
          "data": {
            "text/plain": [
              "         Tipo                Modelo         Balanceamento Dimensionamento  \\\n",
              "27  Label_Hot       SGDClassifier()  RandomUnderSampler()  standardscaler   \n",
              "22  Label_Hot  LogisticRegression()  RandomUnderSampler()      normalizer   \n",
              "4    Full_Hot  LogisticRegression()  RandomUnderSampler()      normalizer   \n",
              "28  Label_Hot       SGDClassifier()  RandomUnderSampler()      normalizer   \n",
              "21  Label_Hot  LogisticRegression()  RandomUnderSampler()  standardscaler   \n",
              "15   Full_Hot       XGBClassifier()  RandomUnderSampler()  standardscaler   \n",
              "\n",
              "    Recall  \n",
              "27  0.8204  \n",
              "22  0.8158  \n",
              "4   0.8112  \n",
              "28  0.8073  \n",
              "21  0.8036  \n",
              "15  0.8005  "
            ],
            "text/html": [
              "\n",
              "  <div id=\"df-20d2d5b5-8330-49b7-ad91-31af28da0f69\">\n",
              "    <div class=\"colab-df-container\">\n",
              "      <div>\n",
              "<style scoped>\n",
              "    .dataframe tbody tr th:only-of-type {\n",
              "        vertical-align: middle;\n",
              "    }\n",
              "\n",
              "    .dataframe tbody tr th {\n",
              "        vertical-align: top;\n",
              "    }\n",
              "\n",
              "    .dataframe thead th {\n",
              "        text-align: right;\n",
              "    }\n",
              "</style>\n",
              "<table border=\"1\" class=\"dataframe\">\n",
              "  <thead>\n",
              "    <tr style=\"text-align: right;\">\n",
              "      <th></th>\n",
              "      <th>Tipo</th>\n",
              "      <th>Modelo</th>\n",
              "      <th>Balanceamento</th>\n",
              "      <th>Dimensionamento</th>\n",
              "      <th>Recall</th>\n",
              "    </tr>\n",
              "  </thead>\n",
              "  <tbody>\n",
              "    <tr>\n",
              "      <th>27</th>\n",
              "      <td>Label_Hot</td>\n",
              "      <td>SGDClassifier()</td>\n",
              "      <td>RandomUnderSampler()</td>\n",
              "      <td>standardscaler</td>\n",
              "      <td>0.8204</td>\n",
              "    </tr>\n",
              "    <tr>\n",
              "      <th>22</th>\n",
              "      <td>Label_Hot</td>\n",
              "      <td>LogisticRegression()</td>\n",
              "      <td>RandomUnderSampler()</td>\n",
              "      <td>normalizer</td>\n",
              "      <td>0.8158</td>\n",
              "    </tr>\n",
              "    <tr>\n",
              "      <th>4</th>\n",
              "      <td>Full_Hot</td>\n",
              "      <td>LogisticRegression()</td>\n",
              "      <td>RandomUnderSampler()</td>\n",
              "      <td>normalizer</td>\n",
              "      <td>0.8112</td>\n",
              "    </tr>\n",
              "    <tr>\n",
              "      <th>28</th>\n",
              "      <td>Label_Hot</td>\n",
              "      <td>SGDClassifier()</td>\n",
              "      <td>RandomUnderSampler()</td>\n",
              "      <td>normalizer</td>\n",
              "      <td>0.8073</td>\n",
              "    </tr>\n",
              "    <tr>\n",
              "      <th>21</th>\n",
              "      <td>Label_Hot</td>\n",
              "      <td>LogisticRegression()</td>\n",
              "      <td>RandomUnderSampler()</td>\n",
              "      <td>standardscaler</td>\n",
              "      <td>0.8036</td>\n",
              "    </tr>\n",
              "    <tr>\n",
              "      <th>15</th>\n",
              "      <td>Full_Hot</td>\n",
              "      <td>XGBClassifier()</td>\n",
              "      <td>RandomUnderSampler()</td>\n",
              "      <td>standardscaler</td>\n",
              "      <td>0.8005</td>\n",
              "    </tr>\n",
              "  </tbody>\n",
              "</table>\n",
              "</div>\n",
              "      <button class=\"colab-df-convert\" onclick=\"convertToInteractive('df-20d2d5b5-8330-49b7-ad91-31af28da0f69')\"\n",
              "              title=\"Convert this dataframe to an interactive table.\"\n",
              "              style=\"display:none;\">\n",
              "        \n",
              "  <svg xmlns=\"http://www.w3.org/2000/svg\" height=\"24px\"viewBox=\"0 0 24 24\"\n",
              "       width=\"24px\">\n",
              "    <path d=\"M0 0h24v24H0V0z\" fill=\"none\"/>\n",
              "    <path d=\"M18.56 5.44l.94 2.06.94-2.06 2.06-.94-2.06-.94-.94-2.06-.94 2.06-2.06.94zm-11 1L8.5 8.5l.94-2.06 2.06-.94-2.06-.94L8.5 2.5l-.94 2.06-2.06.94zm10 10l.94 2.06.94-2.06 2.06-.94-2.06-.94-.94-2.06-.94 2.06-2.06.94z\"/><path d=\"M17.41 7.96l-1.37-1.37c-.4-.4-.92-.59-1.43-.59-.52 0-1.04.2-1.43.59L10.3 9.45l-7.72 7.72c-.78.78-.78 2.05 0 2.83L4 21.41c.39.39.9.59 1.41.59.51 0 1.02-.2 1.41-.59l7.78-7.78 2.81-2.81c.8-.78.8-2.07 0-2.86zM5.41 20L4 18.59l7.72-7.72 1.47 1.35L5.41 20z\"/>\n",
              "  </svg>\n",
              "      </button>\n",
              "      \n",
              "  <style>\n",
              "    .colab-df-container {\n",
              "      display:flex;\n",
              "      flex-wrap:wrap;\n",
              "      gap: 12px;\n",
              "    }\n",
              "\n",
              "    .colab-df-convert {\n",
              "      background-color: #E8F0FE;\n",
              "      border: none;\n",
              "      border-radius: 50%;\n",
              "      cursor: pointer;\n",
              "      display: none;\n",
              "      fill: #1967D2;\n",
              "      height: 32px;\n",
              "      padding: 0 0 0 0;\n",
              "      width: 32px;\n",
              "    }\n",
              "\n",
              "    .colab-df-convert:hover {\n",
              "      background-color: #E2EBFA;\n",
              "      box-shadow: 0px 1px 2px rgba(60, 64, 67, 0.3), 0px 1px 3px 1px rgba(60, 64, 67, 0.15);\n",
              "      fill: #174EA6;\n",
              "    }\n",
              "\n",
              "    [theme=dark] .colab-df-convert {\n",
              "      background-color: #3B4455;\n",
              "      fill: #D2E3FC;\n",
              "    }\n",
              "\n",
              "    [theme=dark] .colab-df-convert:hover {\n",
              "      background-color: #434B5C;\n",
              "      box-shadow: 0px 1px 3px 1px rgba(0, 0, 0, 0.15);\n",
              "      filter: drop-shadow(0px 1px 2px rgba(0, 0, 0, 0.3));\n",
              "      fill: #FFFFFF;\n",
              "    }\n",
              "  </style>\n",
              "\n",
              "      <script>\n",
              "        const buttonEl =\n",
              "          document.querySelector('#df-20d2d5b5-8330-49b7-ad91-31af28da0f69 button.colab-df-convert');\n",
              "        buttonEl.style.display =\n",
              "          google.colab.kernel.accessAllowed ? 'block' : 'none';\n",
              "\n",
              "        async function convertToInteractive(key) {\n",
              "          const element = document.querySelector('#df-20d2d5b5-8330-49b7-ad91-31af28da0f69');\n",
              "          const dataTable =\n",
              "            await google.colab.kernel.invokeFunction('convertToInteractive',\n",
              "                                                     [key], {});\n",
              "          if (!dataTable) return;\n",
              "\n",
              "          const docLinkHtml = 'Like what you see? Visit the ' +\n",
              "            '<a target=\"_blank\" href=https://colab.research.google.com/notebooks/data_table.ipynb>data table notebook</a>'\n",
              "            + ' to learn more about interactive tables.';\n",
              "          element.innerHTML = '';\n",
              "          dataTable['output_type'] = 'display_data';\n",
              "          await google.colab.output.renderOutput(dataTable, element);\n",
              "          const docLink = document.createElement('div');\n",
              "          docLink.innerHTML = docLinkHtml;\n",
              "          element.appendChild(docLink);\n",
              "        }\n",
              "      </script>\n",
              "    </div>\n",
              "  </div>\n",
              "  "
            ]
          },
          "metadata": {},
          "execution_count": 51
        }
      ]
    },
    {
      "cell_type": "markdown",
      "source": [
        "Dos 3 algortimos utilizados com as as tecnicas de padronização/normalização e transformações categoricas, temos:\n",
        "* **SGDClassifier** com balanceamento **RandomUnderSampler** e dimensionamento **standardscaler** com media de 0.8204, utiliando os dado de *label + hot encoded*.\n",
        "* **LogisticRegression** com balanceamento **RandomUnderSampler** e dimensionamento **normalizer** com media de 0.8158, utiliando os dado de *label + hot encoded*.\n",
        "* **XGBClassifier** com balanceamento **RandomUnderSampler** e dimensionamento **standardscaler** com media de 0.8005, utiliando os dado de *full hot encoded*."
      ],
      "metadata": {
        "id": "Zf7wEL0X9vQp"
      }
    },
    {
      "cell_type": "markdown",
      "source": [
        "## Otimização de Hiperparâmetros"
      ],
      "metadata": {
        "id": "vlmh9TsZdfeR"
      }
    },
    {
      "cell_type": "markdown",
      "source": [
        "Para encontrarmos os melhores hiperparâmetros de cada algoritmo, utilizaremos a tecnica **Grid Search**. Essa técnica consiste em testar diferentes combinações de hiperparametros exaustivamente e separar a melhor.\n",
        "\n",
        "Com o *sklearn* temos o metodo ***GridSearchCV*** que fundem as tecnicas de **Grid Search** juntamente com **cross-validation**."
      ],
      "metadata": {
        "id": "uX7uKjWk--MS"
      }
    },
    {
      "cell_type": "markdown",
      "source": [
        "### LogisticRegression"
      ],
      "metadata": {
        "id": "S3f6ROIfgBWK"
      }
    },
    {
      "cell_type": "code",
      "source": [
        "parameters = [{\n",
        "    'logisticregression__C': [0.001, 00.5, 0.1, 0.5, 1, 5],\n",
        "    'logisticregression__solver': ['newton-cg','lbfgs', 'liblinear', 'saga'],\n",
        "    'logisticregression__penalty': ['l2'],\n",
        "    'logisticregression__max_iter': [100, 200, 500, 1000, 5000],\n",
        "    'logisticregression__random_state': [0]\n",
        "    },\n",
        "    {\n",
        "     'logisticregression__C': [0.001, 00.5, 0.1, 0.5, 1, 5],\n",
        "     'logisticregression__solver': ['liblinear', 'saga'],\n",
        "     'logisticregression__penalty': ['l1'],\n",
        "     'logisticregression__max_iter': [100, 200, 500, 1000, 5000],\n",
        "     'logisticregression__random_state': [0] \n",
        "    }]"
      ],
      "metadata": {
        "id": "Of4m7S1xgDLx"
      },
      "execution_count": null,
      "outputs": []
    },
    {
      "cell_type": "code",
      "source": [
        "final_pipeline = pipeline_imblearn([('balance', RandomUnderSampler()), ('normalizations', preprocessor_normalizer), ('logisticregression', LogisticRegression())])\n",
        "\n",
        "gs_cv = GridSearchCV(final_pipeline,\n",
        "                     param_grid=parameters,\n",
        "                     n_jobs=2,\n",
        "                     scoring='recall',\n",
        "                     cv=StratifiedKFold()).fit(X_train_label_hot, y_train_label_hot)\n",
        "\n",
        "print(\"Melhor: {} usando {}\".format(gs_cv.best_score_, gs_cv.best_params_))"
      ],
      "metadata": {
        "colab": {
          "base_uri": "https://localhost:8080/"
        },
        "id": "9cwYk6LVgEzJ",
        "outputId": "cd4abc6a-8dae-4abf-fa25-953b5b0f620f"
      },
      "execution_count": null,
      "outputs": [
        {
          "output_type": "stream",
          "name": "stdout",
          "text": [
            "Melhor: 0.8333772045275072 usando {'logisticregression__C': 0.001, 'logisticregression__max_iter': 500, 'logisticregression__penalty': 'l2', 'logisticregression__random_state': 0, 'logisticregression__solver': 'liblinear'}\n"
          ]
        }
      ]
    },
    {
      "cell_type": "markdown",
      "source": [
        "### SGDClassifier"
      ],
      "metadata": {
        "id": "7JCXLT0rdnLw"
      }
    },
    {
      "cell_type": "code",
      "source": [
        "parameters = {\n",
        "    'sgdclassifier__alpha': [0.0001, 0.0005, 0.001, 0.05, 0.1],\n",
        "    'sgdclassifier__loss': ['perceptron','hinge', 'log', 'squared_error'],\n",
        "    'sgdclassifier__penalty': ['l2', 'l1', 'elasticnet'],\n",
        "    'sgdclassifier__random_state': [0],\n",
        "    'sgdclassifier__max_iter': [100,500,1000,5000,10000]\n",
        "    }"
      ],
      "metadata": {
        "id": "D0PK57YCVhN_"
      },
      "execution_count": null,
      "outputs": []
    },
    {
      "cell_type": "code",
      "source": [
        "final_pipeline = pipeline_imblearn([('balance', RandomUnderSampler()), ('normalizations', preprocessor_standard), ('sgdclassifier', SGDClassifier())])\n",
        "\n",
        "gs_cv = GridSearchCV(final_pipeline,\n",
        "                     param_grid=parameters,\n",
        "                     n_jobs=2,\n",
        "                     scoring='recall',\n",
        "                     cv=StratifiedKFold()).fit(X_train_label_hot, y_train_label_hot)\n",
        "\n",
        "print(\"Melhor: {} usando {}\".format(gs_cv.best_score_, gs_cv.best_params_))"
      ],
      "metadata": {
        "colab": {
          "base_uri": "https://localhost:8080/"
        },
        "id": "LUtnDMTuzcC3",
        "outputId": "e06fa1d4-d3f0-4d0d-ad71-1228efc829bd"
      },
      "execution_count": null,
      "outputs": [
        {
          "output_type": "stream",
          "name": "stdout",
          "text": [
            "Melhor: 0.906010353601825 usando {'sgdclassifier__alpha': 0.1, 'sgdclassifier__loss': 'hinge', 'sgdclassifier__max_iter': 500, 'sgdclassifier__penalty': 'l1', 'sgdclassifier__random_state': 0}\n"
          ]
        }
      ]
    },
    {
      "cell_type": "markdown",
      "source": [
        "### XGBClassifier"
      ],
      "metadata": {
        "id": "4WNieqkOrPtc"
      }
    },
    {
      "cell_type": "code",
      "source": [
        "final_pipeline = pipeline_imblearn([('balance', RandomUnderSampler()), ('normalizations', preprocessor_standard), ('xgbclassifier', XGBClassifier())])\n",
        "\n",
        "parameters = {\n",
        "    'xgbclassifier__learning_rate': [0.001, 0.05, 0.01, 0.1, 0.3],\n",
        "    'xgbclassifier__n_estimators': [10,20,50,100,200],\n",
        "    'xgbclassifier__max_depth': [2,3,5],\n",
        "    'xgbclassifier__gamma': [0.0, 0.001, 0.1, 0.2],\n",
        "    'xgbclassifier__random_state': [0],\n",
        "    'xgbclassifier__booster': ['gbtree', 'gblinear', 'dart']\n",
        "}\n",
        "\n",
        "gs_cv = GridSearchCV(final_pipeline,\n",
        "                     param_grid=parameters,\n",
        "                     n_jobs=-1,\n",
        "                     scoring='recall',\n",
        "                     cv=StratifiedKFold()).fit(X_train_full_hot, y_train_full_hot)\n",
        "\n",
        "print(\"Melhor: {} usando {}\".format(gs_cv.best_score_, gs_cv.best_params_))"
      ],
      "metadata": {
        "colab": {
          "base_uri": "https://localhost:8080/"
        },
        "id": "XcPh-rTh-az2",
        "outputId": "e2b79094-5bb2-491a-d280-c5f39c626e3a"
      },
      "execution_count": null,
      "outputs": [
        {
          "output_type": "stream",
          "name": "stdout",
          "text": [
            "Melhor: 0.873130355941622 usando {'xgbclassifier__booster': 'gblinear', 'xgbclassifier__gamma': 0.1, 'xgbclassifier__learning_rate': 0.001, 'xgbclassifier__max_depth': 5, 'xgbclassifier__n_estimators': 20, 'xgbclassifier__random_state': 0}\n"
          ]
        }
      ]
    },
    {
      "cell_type": "markdown",
      "source": [
        "Com a tecnica de **Grid Search** conseguimos os seguintes hiperparametros de cada algoritmo:\n",
        "* LogisticRegression com valor de recall de 0.8333772045275072 usando **C: 0.001**, **max_iter: 500**, **penalty: l2**, **random_state: 0** e **solver: liblinear**.\n",
        "* SGDClassifier com valor de recall de 0.906010353601825 usando **alpha: 0.1**, **loss: hinge**, **max_iter: 500**, **penalty: l1**, **random_state: 0**.\n",
        "* XGBClassifier com valor de recall de 0.873130355941622 usando **booster: gblinear**, **gamma: 0.1**, **learning_rate: 0.001**, **max_depth: 5**, **n_estimators: 20**, **random_state: 0**."
      ],
      "metadata": {
        "id": "EcSjrrgUANJo"
      }
    },
    {
      "cell_type": "markdown",
      "source": [
        "## Validação dos Hiperparâmetros"
      ],
      "metadata": {
        "id": "NKswPsNrxeFs"
      }
    },
    {
      "cell_type": "code",
      "source": [
        "X_train_label_hot_final = X_train_label_hot.copy()\n",
        "y_train_label_hot_final = y_train_label_hot.copy()\n",
        "\n",
        "X_train_full_hot_final = X_train_full_hot.copy()\n",
        "y_train_full_hot_final = y_train_full_hot.copy()\n",
        "\n",
        "X_test_label_hot_final = X_test_label_hot.copy()\n",
        "X_test_full_hot_final = X_test_full_hot.copy()"
      ],
      "metadata": {
        "id": "8WqpOT8fR4lB"
      },
      "execution_count": 41,
      "outputs": []
    },
    {
      "cell_type": "markdown",
      "source": [
        "### LogisticRegression"
      ],
      "metadata": {
        "id": "um2sH46ER2S6"
      }
    },
    {
      "cell_type": "code",
      "source": [
        "randomundersampler = RandomUnderSampler()"
      ],
      "metadata": {
        "id": "EheVlV66SOFy"
      },
      "execution_count": null,
      "outputs": []
    },
    {
      "cell_type": "code",
      "source": [
        "X_train_label_hot_final, y_train_label_hot_final = randomundersampler.fit_resample(X_train_label_hot_final, y_train_label_hot_final)"
      ],
      "metadata": {
        "id": "cD5OOasFSUvT"
      },
      "execution_count": null,
      "outputs": []
    },
    {
      "cell_type": "code",
      "source": [
        "normalizer = Normalizer()\n",
        "X_train_label_hot_final[[\"tenure\", \"MonthlyCharges\", \"TotalCharges\"]] = normalizer.fit_transform(X_train_label_hot_final[[\"tenure\", \"MonthlyCharges\", \"TotalCharges\"]])\n",
        "X_test_label_hot_final[[\"tenure\", \"MonthlyCharges\", \"TotalCharges\"]] = normalizer.fit_transform(X_test_label_hot_final[[\"tenure\", \"MonthlyCharges\", \"TotalCharges\"]])"
      ],
      "metadata": {
        "id": "Y-IzKZHsSauI"
      },
      "execution_count": null,
      "outputs": []
    },
    {
      "cell_type": "code",
      "source": [
        "logisticregression = LogisticRegression(C=0.001, max_iter=500, penalty='l2', solver='liblinear', random_state=0)"
      ],
      "metadata": {
        "id": "TZGu-shuSlYi"
      },
      "execution_count": null,
      "outputs": []
    },
    {
      "cell_type": "code",
      "source": [
        "logisticregression.fit(X_train_label_hot_final, y_train_label_hot_final)"
      ],
      "metadata": {
        "colab": {
          "base_uri": "https://localhost:8080/"
        },
        "id": "h0yEhocMSnKZ",
        "outputId": "9de83ca2-984c-4a38-91e6-5c6c0feefdd2"
      },
      "execution_count": null,
      "outputs": [
        {
          "output_type": "execute_result",
          "data": {
            "text/plain": [
              "LogisticRegression(C=0.001, max_iter=500, random_state=0, solver='liblinear')"
            ]
          },
          "metadata": {},
          "execution_count": 87
        }
      ]
    },
    {
      "cell_type": "code",
      "source": [
        "resultados = logisticregression.predict(X_test_label_hot_final)"
      ],
      "metadata": {
        "id": "EWRIHQ9TTR0B"
      },
      "execution_count": null,
      "outputs": []
    },
    {
      "cell_type": "code",
      "source": [
        "print(classification_report(y_test_label_hot, resultados))"
      ],
      "metadata": {
        "colab": {
          "base_uri": "https://localhost:8080/"
        },
        "id": "YcSFWs9UTX-y",
        "outputId": "54964edf-1f9a-4898-e0f6-3ca97e5170d2"
      },
      "execution_count": null,
      "outputs": [
        {
          "output_type": "stream",
          "name": "stdout",
          "text": [
            "              precision    recall  f1-score   support\n",
            "\n",
            "           0       0.92      0.67      0.78      1552\n",
            "           1       0.48      0.84      0.62       561\n",
            "\n",
            "    accuracy                           0.72      2113\n",
            "   macro avg       0.70      0.76      0.70      2113\n",
            "weighted avg       0.81      0.72      0.74      2113\n",
            "\n"
          ]
        }
      ]
    },
    {
      "cell_type": "markdown",
      "source": [
        "### SGDClassifier"
      ],
      "metadata": {
        "id": "PL6nkW3vSM9g"
      }
    },
    {
      "cell_type": "code",
      "source": [
        "randomundersampler = RandomUnderSampler()"
      ],
      "metadata": {
        "id": "ld1Nb2i5Worx"
      },
      "execution_count": null,
      "outputs": []
    },
    {
      "cell_type": "code",
      "source": [
        "X_train_label_hot_final, y_train_label_hot_final = randomundersampler.fit_resample(X_train_label_hot_final, y_train_label_hot_final)"
      ],
      "metadata": {
        "id": "Z_9FzlUjHzw2"
      },
      "execution_count": null,
      "outputs": []
    },
    {
      "cell_type": "code",
      "source": [
        "standardscaler = StandardScaler()\n",
        "X_train_label_hot_final[[\"tenure\", \"MonthlyCharges\", \"TotalCharges\"]] = normalizer.fit_transform(X_train_label_hot_final[[\"tenure\", \"MonthlyCharges\", \"TotalCharges\"]])\n",
        "X_test_label_hot_final[[\"tenure\", \"MonthlyCharges\", \"TotalCharges\"]] = normalizer.fit_transform(X_test_label_hot_final[[\"tenure\", \"MonthlyCharges\", \"TotalCharges\"]])"
      ],
      "metadata": {
        "id": "MLSNWDWxV63U"
      },
      "execution_count": null,
      "outputs": []
    },
    {
      "cell_type": "code",
      "source": [
        "sgdclassifier = SGDClassifier(alpha=0.1, loss='hinge', max_iter=500, penalty='l1', random_state=0)"
      ],
      "metadata": {
        "id": "JzL6_QiZxr40"
      },
      "execution_count": null,
      "outputs": []
    },
    {
      "cell_type": "code",
      "source": [
        "sgdclassifier.fit(X_train_label_hot_final, y_train_label_hot_final)"
      ],
      "metadata": {
        "colab": {
          "base_uri": "https://localhost:8080/"
        },
        "id": "USazWlY9XWfS",
        "outputId": "e47875db-4252-456c-a322-2d6951250293"
      },
      "execution_count": null,
      "outputs": [
        {
          "output_type": "execute_result",
          "data": {
            "text/plain": [
              "SGDClassifier(alpha=0.1, max_iter=500, penalty='l1', random_state=0)"
            ]
          },
          "metadata": {},
          "execution_count": 95
        }
      ]
    },
    {
      "cell_type": "code",
      "source": [
        "resultados = sgdclassifier.predict(X_test_label_hot_final)"
      ],
      "metadata": {
        "id": "yis05ZXXXezC"
      },
      "execution_count": null,
      "outputs": []
    },
    {
      "cell_type": "code",
      "source": [
        "print(classification_report(y_test_label_hot, resultados))"
      ],
      "metadata": {
        "colab": {
          "base_uri": "https://localhost:8080/"
        },
        "id": "tdb7w_u-ZTwL",
        "outputId": "c2ca537a-973f-4097-f68f-769eb18bf645"
      },
      "execution_count": null,
      "outputs": [
        {
          "output_type": "stream",
          "name": "stdout",
          "text": [
            "              precision    recall  f1-score   support\n",
            "\n",
            "           0       0.93      0.58      0.72      1552\n",
            "           1       0.43      0.87      0.58       561\n",
            "\n",
            "    accuracy                           0.66      2113\n",
            "   macro avg       0.68      0.73      0.65      2113\n",
            "weighted avg       0.80      0.66      0.68      2113\n",
            "\n"
          ]
        }
      ]
    },
    {
      "cell_type": "markdown",
      "source": [
        "### XGBClassifier"
      ],
      "metadata": {
        "id": "_Ae-0zpaUOgJ"
      }
    },
    {
      "cell_type": "code",
      "source": [
        "randomundersampler = RandomUnderSampler()"
      ],
      "metadata": {
        "id": "shszRfG0UPq5"
      },
      "execution_count": 45,
      "outputs": []
    },
    {
      "cell_type": "code",
      "source": [
        "X_train_full_hot_final, y_train_full_hot_final = randomundersampler.fit_resample(X_train_full_hot_final, y_train_full_hot_final)"
      ],
      "metadata": {
        "id": "o2VXLkPaUQ9a"
      },
      "execution_count": 49,
      "outputs": []
    },
    {
      "cell_type": "code",
      "source": [
        "standardscaler = StandardScaler()\n",
        "X_train_full_hot_final[[\"tenure\", \"MonthlyCharges\", \"TotalCharges\"]] = standardscaler.fit_transform(X_train_full_hot_final[[\"tenure\", \"MonthlyCharges\", \"TotalCharges\"]])\n",
        "X_test_full_hot_final[[\"tenure\", \"MonthlyCharges\", \"TotalCharges\"]] = standardscaler.fit_transform(X_test_full_hot_final[[\"tenure\", \"MonthlyCharges\", \"TotalCharges\"]])"
      ],
      "metadata": {
        "id": "nsPMERSAUS3K"
      },
      "execution_count": 50,
      "outputs": []
    },
    {
      "cell_type": "code",
      "source": [
        "xgbclassifier = XGBClassifier(gamma=0.1, learning_rate=0.001, n_estimators=20, random_state=0, max_depth=5, booster='gblinear')"
      ],
      "metadata": {
        "id": "QAIcHOVQUWb6"
      },
      "execution_count": 51,
      "outputs": []
    },
    {
      "cell_type": "code",
      "source": [
        "xgbclassifier.fit(X_train_full_hot_final, y_train_full_hot_final)"
      ],
      "metadata": {
        "colab": {
          "base_uri": "https://localhost:8080/"
        },
        "id": "gWWG2TAWU7zb",
        "outputId": "67c2b873-442d-4e05-f99b-227e6ea311b6"
      },
      "execution_count": 52,
      "outputs": [
        {
          "output_type": "execute_result",
          "data": {
            "text/plain": [
              "XGBClassifier(booster='gblinear', gamma=0.1, learning_rate=0.001, max_depth=5,\n",
              "              n_estimators=20)"
            ]
          },
          "metadata": {},
          "execution_count": 52
        }
      ]
    },
    {
      "cell_type": "code",
      "source": [
        "resultados = xgbclassifier.predict(X_test_full_hot_final)"
      ],
      "metadata": {
        "id": "kbo4iJBhU-FC"
      },
      "execution_count": 53,
      "outputs": []
    },
    {
      "cell_type": "code",
      "source": [
        "print(classification_report(y_test_full_hot, resultados))"
      ],
      "metadata": {
        "colab": {
          "base_uri": "https://localhost:8080/"
        },
        "id": "JvRZdx4iVA1k",
        "outputId": "e06e95c5-ed49-4c67-89b1-96d3b67ffcbd"
      },
      "execution_count": 54,
      "outputs": [
        {
          "output_type": "stream",
          "name": "stdout",
          "text": [
            "              precision    recall  f1-score   support\n",
            "\n",
            "           0       0.94      0.57      0.71      1552\n",
            "           1       0.43      0.90      0.58       561\n",
            "\n",
            "    accuracy                           0.66      2113\n",
            "   macro avg       0.69      0.74      0.65      2113\n",
            "weighted avg       0.81      0.66      0.68      2113\n",
            "\n"
          ]
        }
      ]
    },
    {
      "cell_type": "markdown",
      "source": [
        "## Resultado Parcial"
      ],
      "metadata": {
        "id": "PLtoYdOUEbDQ"
      }
    },
    {
      "cell_type": "code",
      "source": [
        "!pip install -q scikit-plot"
      ],
      "metadata": {
        "id": "OLq9F2pRFadB"
      },
      "execution_count": 46,
      "outputs": []
    },
    {
      "cell_type": "code",
      "source": [
        "import scikitplot as skplt "
      ],
      "metadata": {
        "id": "U-CO7KiKFcep"
      },
      "execution_count": 47,
      "outputs": []
    },
    {
      "cell_type": "code",
      "source": [
        "skplt.metrics.plot_confusion_matrix(y_test_full_hot, resultados, normalize=True)\n",
        "\n",
        "# AUC\n",
        "print(\"AUC: {:.4f}\".format(roc_auc_score(y_test_full_hot, resultados)))\n",
        "print('')"
      ],
      "metadata": {
        "colab": {
          "base_uri": "https://localhost:8080/",
          "height": 331
        },
        "id": "pba2FWuuEetp",
        "outputId": "955e0541-13a4-4e23-e85d-9556bf61b238"
      },
      "execution_count": 55,
      "outputs": [
        {
          "output_type": "stream",
          "name": "stdout",
          "text": [
            "AUC: 0.7357\n",
            "\n"
          ]
        },
        {
          "output_type": "display_data",
          "data": {
            "text/plain": [
              "<Figure size 432x288 with 2 Axes>"
            ],
            "image/png": "[encoded data removed]"
          },
          "metadata": {
            "needs_background": "light"
          }
        }
      ]
    },
    {
      "cell_type": "markdown",
      "source": [
        "## Extra"
      ],
      "metadata": {
        "id": "kITtPsV4zALA"
      }
    },
    {
      "cell_type": "markdown",
      "source": [
        "Como observado no inicio, temos algumas colunas que são consideradas \"redundantes\" no dataset, por isso iremos aplicar so mesmos hiperparametros do melhor algoritmo encontrado no resuldato parcial com esse dataset resumido que criaremos."
      ],
      "metadata": {
        "id": "479EiEIVGKQx"
      }
    },
    {
      "cell_type": "code",
      "source": [
        "import seaborn as sns"
      ],
      "metadata": {
        "id": "kll4udWk4FY9"
      },
      "execution_count": 56,
      "outputs": []
    },
    {
      "cell_type": "code",
      "source": [
        "X_train_extra_label_hot = X_train_label_hot.copy()\n",
        "y_train_extra_label_hot = y_train_label_hot.copy()\n",
        "\n",
        "X_train_extra_full_hot = X_train_full_hot.copy()\n",
        "y_train_extra_full_hot = y_train_full_hot.copy()\n",
        "\n",
        "X_test_extra_label_hot = X_test_label_hot.copy()\n",
        "X_test_extra_full_hot = X_test_full_hot.copy()"
      ],
      "metadata": {
        "id": "2JWaNEF4QDFf"
      },
      "execution_count": 57,
      "outputs": []
    },
    {
      "cell_type": "markdown",
      "source": [
        "### Removendo Valores Redundantes"
      ],
      "metadata": {
        "id": "r7bWabuOOHIQ"
      }
    },
    {
      "cell_type": "code",
      "source": [
        "# Excluindo variáveis redundantes\n",
        "colunas_redundantes = ['multiple_lines_no_phone_service','online_security_no_internet_service','online_backup_no_internet_service','device_protection_no_internet_service',\n",
        "'tech_support_no_internet_service','streaming_tv_no_internet_service','streaming_movies_no_internet_service']\n",
        "\n",
        "X_train_extra_label_hot.drop(colunas_redundantes, axis=1, inplace=True)\n",
        "X_train_extra_full_hot.drop(colunas_redundantes, axis=1, inplace=True)\n",
        "\n",
        "X_test_extra_label_hot.drop(colunas_redundantes, axis=1, inplace=True)\n",
        "X_test_extra_full_hot.drop(colunas_redundantes, axis=1, inplace=True)"
      ],
      "metadata": {
        "id": "p59EX40i6aaX"
      },
      "execution_count": 58,
      "outputs": []
    },
    {
      "cell_type": "markdown",
      "source": [
        "A coluna `TotalCharges` representa a mutiplicação das colunas `ternure` e `MonthlyCharges`, assim participando mais de uma vez no processo de ajuste de parâmetros do modelo. A fim de evitar isso iremos excluí-la."
      ],
      "metadata": {
        "id": "J_5GqcKwHIPY"
      }
    },
    {
      "cell_type": "code",
      "source": [
        "# remove MonthlyCharges\n",
        "X_train_extra_label_hot.drop(columns='TotalCharges', inplace=True)\n",
        "X_train_extra_full_hot.drop(columns='TotalCharges', inplace=True)\n",
        "\n",
        "X_test_extra_label_hot.drop(columns='TotalCharges', inplace=True)\n",
        "X_test_extra_full_hot.drop(columns='TotalCharges', inplace=True)"
      ],
      "metadata": {
        "id": "UtKauBxH7LDw"
      },
      "execution_count": 59,
      "outputs": []
    },
    {
      "cell_type": "markdown",
      "source": [
        "### Validação dos Hiperparâmetros"
      ],
      "metadata": {
        "id": "Vr_ErfldVzxC"
      }
    },
    {
      "cell_type": "code",
      "source": [
        "X_train_extra_label_hot_final = X_train_extra_label_hot.copy()\n",
        "y_train_extra_label_hot_final = y_train_extra_label_hot.copy()\n",
        "\n",
        "X_train_extra_full_hot_final = X_train_extra_full_hot.copy()\n",
        "y_train_extra_full_hot_final = y_train_extra_full_hot.copy()\n",
        "\n",
        "X_test_extra_label_hot_final = X_test_extra_label_hot.copy()\n",
        "X_test_extra_full_hot_final = X_test_extra_full_hot.copy()"
      ],
      "metadata": {
        "id": "_Wv-2BYnchVq"
      },
      "execution_count": 60,
      "outputs": []
    },
    {
      "cell_type": "markdown",
      "source": [
        "#### XGBClassifier"
      ],
      "metadata": {
        "id": "a_ANxxVPdI0I"
      }
    },
    {
      "cell_type": "code",
      "source": [
        "randomundersampler = RandomUnderSampler()"
      ],
      "metadata": {
        "id": "9EuzKlgDM-KT"
      },
      "execution_count": 61,
      "outputs": []
    },
    {
      "cell_type": "code",
      "source": [
        "X_train_extra_label_hot_final, y_train_extra_label_hot_final = randomundersampler.fit_resample(X_train_extra_label_hot_final, y_train_extra_label_hot_final)"
      ],
      "metadata": {
        "id": "zCJxSa4lNodT"
      },
      "execution_count": 62,
      "outputs": []
    },
    {
      "cell_type": "code",
      "source": [
        "standardscaler = StandardScaler()\n",
        "X_train_extra_label_hot_final[[\"tenure\", \"MonthlyCharges\"]] = standardscaler.fit_transform(X_train_extra_label_hot_final[[\"tenure\", \"MonthlyCharges\"]])\n",
        "X_test_extra_label_hot_final[[\"tenure\", \"MonthlyCharges\"]] = standardscaler.fit_transform(X_test_extra_label_hot_final[[\"tenure\", \"MonthlyCharges\"]])"
      ],
      "metadata": {
        "id": "ZeV9LpwxM730"
      },
      "execution_count": 63,
      "outputs": []
    },
    {
      "cell_type": "code",
      "source": [
        "xgbclassifier = XGBClassifier(gamma=0.1, learning_rate=0.001, n_estimators=20, random_state=0, max_depth=5, booster='gblinear')"
      ],
      "metadata": {
        "id": "voliAtPFABdR"
      },
      "execution_count": 64,
      "outputs": []
    },
    {
      "cell_type": "code",
      "source": [
        "xgbclassifier.fit(X_train_extra_label_hot_final, y_train_extra_label_hot_final)"
      ],
      "metadata": {
        "colab": {
          "base_uri": "https://localhost:8080/"
        },
        "id": "hLWILQCcAXpK",
        "outputId": "f0951cdd-3815-49ef-c5cb-fc4f06990f53"
      },
      "execution_count": 65,
      "outputs": [
        {
          "output_type": "execute_result",
          "data": {
            "text/plain": [
              "XGBClassifier(booster='gblinear', gamma=0.1, learning_rate=0.001, max_depth=5,\n",
              "              n_estimators=20)"
            ]
          },
          "metadata": {},
          "execution_count": 65
        }
      ]
    },
    {
      "cell_type": "code",
      "source": [
        "resultados = xgbclassifier.predict(X_test_extra_label_hot_final)"
      ],
      "metadata": {
        "id": "O9kmZo8EAbOw"
      },
      "execution_count": 66,
      "outputs": []
    },
    {
      "cell_type": "code",
      "source": [
        "print(classification_report(y_test_label_hot, resultados))"
      ],
      "metadata": {
        "colab": {
          "base_uri": "https://localhost:8080/"
        },
        "id": "9jXuTBSaAhEp",
        "outputId": "01dc37c1-81f2-41cb-e905-de6b4b787a63"
      },
      "execution_count": 67,
      "outputs": [
        {
          "output_type": "stream",
          "name": "stdout",
          "text": [
            "              precision    recall  f1-score   support\n",
            "\n",
            "           0       0.95      0.56      0.71      1552\n",
            "           1       0.43      0.91      0.58       561\n",
            "\n",
            "    accuracy                           0.66      2113\n",
            "   macro avg       0.69      0.74      0.64      2113\n",
            "weighted avg       0.81      0.66      0.67      2113\n",
            "\n"
          ]
        }
      ]
    },
    {
      "cell_type": "code",
      "source": [
        "skplt.metrics.plot_confusion_matrix(y_test_full_hot, resultados, normalize=True)\n",
        "\n",
        "# AUC\n",
        "print(\"AUC: {:.4f}\".format(roc_auc_score(y_test_full_hot, resultados)))\n",
        "print('')"
      ],
      "metadata": {
        "colab": {
          "base_uri": "https://localhost:8080/",
          "height": 331
        },
        "id": "kDpE7N4jIN1j",
        "outputId": "92654034-8b43-4a26-bd9f-be47d2fc8aa7"
      },
      "execution_count": 68,
      "outputs": [
        {
          "output_type": "stream",
          "name": "stdout",
          "text": [
            "AUC: 0.7370\n",
            "\n"
          ]
        },
        {
          "output_type": "display_data",
          "data": {
            "text/plain": [
              "<Figure size 432x288 with 2 Axes>"
            ],
            "image/png": "[encoded data removed]"
          },
          "metadata": {
            "needs_background": "light"
          }
        }
      ]
    },
    {
      "cell_type": "markdown",
      "source": [
        "## Conclusão"
      ],
      "metadata": {
        "id": "Dyf7mh9YIb9g"
      }
    },
    {
      "cell_type": "markdown",
      "source": [
        "O resultado parcial, com a transformação dos dados e sua normalização, apresentou no melhor algoritmo do treinamento, o `SGDClassifier`, um **Recall** de aproximadamente **90,6%**. Entretanto nos teste apresentou um resultado de aproximadamente **87%**, tendo o `XGBClassifier` se saido melhor com aproximadamente **90%**.\n",
        "\n",
        "Alem disso, em um experimento extra, fizemos a remoção das colunas redundantes no dataset, apos a aplicação dos `OneHotEndode` e `LabelEncode`. Com essa nova base de dados utilizamos o melhor algoritmo nos teste, o `XGBClassifier`, com os mesmos hiperparametros e obtevemos uma leve melhora nos resultados de acuracia e *Recall*. "
      ],
      "metadata": {
        "id": "EWkgkd3HIuJw"
      }
    }
  ]
}